{
 "cells": [
  {
   "cell_type": "markdown",
   "metadata": {},
   "source": [
    "# Important Modules"
   ]
  },
  {
   "cell_type": "code",
   "execution_count": 5,
   "metadata": {},
   "outputs": [
    {
     "name": "stdout",
     "output_type": "stream",
     "text": [
      "hello\n"
     ]
    }
   ],
   "source": [
    "import pandas as pd\n",
    "\n",
    "def query_csv_pandas(category):\n",
    "  df = pd.read_csv(\"../Normalized_Data/esg_master_mapping_pillar_updated1.csv\")\n",
    "  filtered_df = df[df[\"Pillar\"] == category]\n",
    "  unique_values = filtered_df[\"Metric\"].unique()\n",
    "\n",
    "  print(unique_values)\n",
    "  \n",
    "\n",
    "# query_csv_pandas(\"E_risk\")\n",
    "print(\"hello\")"
   ]
  },
  {
   "cell_type": "code",
   "execution_count": null,
   "metadata": {},
   "outputs": [],
   "source": []
  },
  {
   "cell_type": "code",
   "execution_count": null,
   "metadata": {},
   "outputs": [
    {
     "ename": "NameError",
     "evalue": "name '__file__' is not defined",
     "output_type": "error",
     "traceback": [
      "\u001b[31m---------------------------------------------------------------------------\u001b[39m",
      "\u001b[31mNameError\u001b[39m                                 Traceback (most recent call last)",
      "\u001b[36mCell\u001b[39m\u001b[36m \u001b[39m\u001b[32mIn[8]\u001b[39m\u001b[32m, line 5\u001b[39m\n\u001b[32m      2\u001b[39m \u001b[38;5;28;01mimport\u001b[39;00m\u001b[38;5;250m \u001b[39m\u001b[34;01mimportlib\u001b[39;00m\u001b[34;01m.\u001b[39;00m\u001b[34;01mutil\u001b[39;00m\n\u001b[32m      4\u001b[39m \u001b[38;5;66;03m# Navigate up to parent, then into notebooks/\u001b[39;00m\n\u001b[32m----> \u001b[39m\u001b[32m5\u001b[39m notebook_path = Path(\u001b[34;43m__file__\u001b[39;49m).resolve().parent.parent / \u001b[33m'\u001b[39m\u001b[33mnotebooks\u001b[39m\u001b[33m'\u001b[39m / \u001b[33m'\u001b[39m\u001b[33montology_vinanti.py\u001b[39m\u001b[33m'\u001b[39m\n\u001b[32m      7\u001b[39m spec = importlib.util.spec_from_file_location(\u001b[33m\"\u001b[39m\u001b[33mother\u001b[39m\u001b[33m\"\u001b[39m, notebook_path)\n\u001b[32m      8\u001b[39m other = importlib.util.module_from_spec(spec)\n",
      "\u001b[31mNameError\u001b[39m: name '__file__' is not defined"
     ]
    }
   ],
   "source": []
  }
 ],
 "metadata": {
  "kernelspec": {
   "display_name": "venv",
   "language": "python",
   "name": "python3"
  },
  "language_info": {
   "codemirror_mode": {
    "name": "ipython",
    "version": 3
   },
   "file_extension": ".py",
   "mimetype": "text/x-python",
   "name": "python",
   "nbconvert_exporter": "python",
   "pygments_lexer": "ipython3",
   "version": "3.13.0"
  }
 },
 "nbformat": 4,
 "nbformat_minor": 2
}
