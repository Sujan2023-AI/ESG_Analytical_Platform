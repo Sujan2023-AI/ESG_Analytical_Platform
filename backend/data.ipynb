{
 "cells": [
  {
   "cell_type": "markdown",
   "metadata": {},
   "source": [
    "# Important Modules"
   ]
  },
  {
   "cell_type": "code",
   "execution_count": 7,
   "metadata": {},
   "outputs": [
    {
     "name": "stdout",
     "output_type": "stream",
     "text": [
      "['SOXEMISSIONS' 'NOXEMISSIONS' 'VOCEMISSIONS'\n",
      " 'PARTICULATE_MATTER_EMISSIONS' 'CO2DIRECTSCOPE1' 'CO2INDIRECTSCOPE2'\n",
      " 'CO2INDIRECTSCOPE3' 'WATERWITHDRAWALTOTAL' 'WASTETOTAL' 'HAZARDOUSWASTE'\n",
      " 'TOXIC_CHEMICALS_REDUCTION' 'AIRPOLLUTANTS_INDIRECT'\n",
      " 'AIRPOLLUTANTS_DIRECT' 'NATURAL_RESOURCE_USE_DIRECT'\n",
      " 'N_OXS_OX_EMISSIONS_REDUCTION' 'VOC_EMISSIONS_REDUCTION'\n",
      " 'WATER_USE_PAI_M10']\n"
     ]
    }
   ],
   "source": [
    "import pandas as pd\n",
    "\n",
    "def query_csv_pandas(category):\n",
    "  df = pd.read_csv(\"../Normalized_Data/esg_master_mapping_pillar_updated1.csv\")\n",
    "  filtered_df = df[df[\"Pillar\"] == category]\n",
    "  unique_values = filtered_df[\"Metric\"].unique()\n",
    "\n",
    "  print(unique_values)\n",
    "\n",
    "query_csv_pandas(\"E_risk\")"
   ]
  }
 ],
 "metadata": {
  "kernelspec": {
   "display_name": ".venv",
   "language": "python",
   "name": "python3"
  },
  "language_info": {
   "codemirror_mode": {
    "name": "ipython",
    "version": 3
   },
   "file_extension": ".py",
   "mimetype": "text/x-python",
   "name": "python",
   "nbconvert_exporter": "python",
   "pygments_lexer": "ipython3",
   "version": "3.13.1"
  }
 },
 "nbformat": 4,
 "nbformat_minor": 2
}
