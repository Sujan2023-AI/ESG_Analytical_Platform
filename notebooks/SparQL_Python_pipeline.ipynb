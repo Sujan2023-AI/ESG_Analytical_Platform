{
 "cells": [
  {
   "cell_type": "code",
   "execution_count": 4,
   "metadata": {},
   "outputs": [],
   "source": [
    "from SPARQLWrapper import SPARQLWrapper, JSON\n",
    "import pandas as pd\n",
    "\n",
    "# GraphDB endpoint\n",
    "sparql_endpoint = \"http://MacBookAir.modem:7200/repositories/ESGDataset\"\n",
    "\n",
    "def query_esg_data_by_topic(topic_keyword, industry_name, data_type=None):\n",
    "    sparql = SPARQLWrapper(sparql_endpoint)\n",
    "\n",
    "    data_type_filter = f'FILTER(LCASE(STR(?data_type)) = \"{data_type.lower()}\")' if data_type else \"\"\n",
    "\n",
    "    query = f\"\"\"\n",
    "    PREFIX ex: <http://example.org/esg/>\n",
    "    PREFIX xsd: <http://www.w3.org/2001/XMLSchema#>\n",
    "\n",
    "    SELECT ?company ?year ?metric ?value ?category ?pillar ?industry ?data_type\n",
    "    WHERE {{\n",
    "      ?obs a ex:ESGObservation ;\n",
    "           ex:hasCompany ?company ;\n",
    "           ex:hasYear ?year ;\n",
    "           ex:hasMetric ?metric ;\n",
    "           ex:hasCategory ?category ;\n",
    "           ex:hasPillar ?pillar ;\n",
    "           ex:hasIndustry ?industry ;\n",
    "           ex:hasValue ?value ;\n",
    "           ex:hasDataType ?data_type .\n",
    "\n",
    "      FILTER(CONTAINS(LCASE(STR(?category)), \"{topic_keyword.lower()}\"))\n",
    "      FILTER(CONTAINS(LCASE(STR(?industry)), \"{industry_name.lower()}\"))\n",
    "      {data_type_filter}\n",
    "    }}\n",
    "    \"\"\"\n",
    "\n",
    "    print(\"Running SPARQL query...\")\n",
    "    sparql.setQuery(query)\n",
    "    sparql.setReturnFormat(JSON)\n",
    "\n",
    "    try:\n",
    "        results = sparql.query().convert()\n",
    "        print(\"Query executed successfully.\")\n",
    "    except Exception as e:\n",
    "        print(\"SPARQL Query Failed:\", e)\n",
    "        return pd.DataFrame()\n",
    "\n",
    "    rows = []\n",
    "    for result in results[\"results\"][\"bindings\"]:\n",
    "        try:\n",
    "            row = {\n",
    "                \"company\": result[\"company\"][\"value\"].rsplit('/', 1)[-1],\n",
    "                \"year\": int(result[\"year\"][\"value\"]),\n",
    "                \"metric\": result[\"metric\"][\"value\"].rsplit('/', 1)[-1],\n",
    "                \"value\": float(result[\"value\"][\"value\"]),\n",
    "                \"category\": result[\"category\"][\"value\"].rsplit('/', 1)[-1],\n",
    "                \"pillar\": result[\"pillar\"][\"value\"].rsplit('/', 1)[-1],\n",
    "                \"industry\": result[\"industry\"][\"value\"].rsplit('/', 1)[-1],\n",
    "                \"data_type\": result[\"data_type\"][\"value\"]\n",
    "            }\n",
    "            rows.append(row)\n",
    "        except Exception as e:\n",
    "            print(\"Error processing row:\", e)\n",
    "            print(result)\n",
    "\n",
    "    df = pd.DataFrame(rows)\n",
    "    print(f\"DataFrame shape: {df.shape}\")\n",
    "    return df"
   ]
  },
  {
   "cell_type": "code",
   "execution_count": 5,
   "metadata": {},
   "outputs": [
    {
     "name": "stdout",
     "output_type": "stream",
     "text": [
      "Running SPARQL query...\n",
      "SPARQL Query Failed: <urlopen error [Errno 8] nodename nor servname provided, or not known>\n"
     ]
    },
    {
     "ename": "KeyError",
     "evalue": "'company'",
     "output_type": "error",
     "traceback": [
      "\u001b[31m---------------------------------------------------------------------------\u001b[39m",
      "\u001b[31mKeyError\u001b[39m                                  Traceback (most recent call last)",
      "\u001b[36mCell\u001b[39m\u001b[36m \u001b[39m\u001b[32mIn[5]\u001b[39m\u001b[32m, line 2\u001b[39m\n\u001b[32m      1\u001b[39m df_avix = query_esg_data_by_topic(topic_keyword=\u001b[33m\"\u001b[39m\u001b[33m\"\u001b[39m, industry_name=\u001b[33m\"\u001b[39m\u001b[33msemiconductors\u001b[39m\u001b[33m\"\u001b[39m, data_type=\u001b[33m\"\u001b[39m\u001b[33mQuantitative\u001b[39m\u001b[33m\"\u001b[39m)\n\u001b[32m----> \u001b[39m\u001b[32m2\u001b[39m df_avix = df_avix[\u001b[43mdf_avix\u001b[49m\u001b[43m[\u001b[49m\u001b[33;43m\"\u001b[39;49m\u001b[33;43mcompany\u001b[39;49m\u001b[33;43m\"\u001b[39;49m\u001b[43m]\u001b[49m.str.lower().str.contains(\u001b[33m\"\u001b[39m\u001b[33mavix\u001b[39m\u001b[33m\"\u001b[39m)]\n\u001b[32m      4\u001b[39m \u001b[38;5;66;03m# Show first few rows\u001b[39;00m\n\u001b[32m      5\u001b[39m \u001b[38;5;28mprint\u001b[39m(df_avix[[\u001b[33m\"\u001b[39m\u001b[33mcompany\u001b[39m\u001b[33m\"\u001b[39m, \u001b[33m\"\u001b[39m\u001b[33myear\u001b[39m\u001b[33m\"\u001b[39m, \u001b[33m\"\u001b[39m\u001b[33mmetric\u001b[39m\u001b[33m\"\u001b[39m, \u001b[33m\"\u001b[39m\u001b[33mpillar\u001b[39m\u001b[33m\"\u001b[39m, \u001b[33m\"\u001b[39m\u001b[33mcategory\u001b[39m\u001b[33m\"\u001b[39m, \u001b[33m\"\u001b[39m\u001b[33mvalue\u001b[39m\u001b[33m\"\u001b[39m]].head())\n",
      "\u001b[36mFile \u001b[39m\u001b[32m~/Desktop/capstone-project-2025-t1-25t1-9900-t12a-chocolate/.venv/lib/python3.13/site-packages/pandas/core/frame.py:4102\u001b[39m, in \u001b[36mDataFrame.__getitem__\u001b[39m\u001b[34m(self, key)\u001b[39m\n\u001b[32m   4100\u001b[39m \u001b[38;5;28;01mif\u001b[39;00m \u001b[38;5;28mself\u001b[39m.columns.nlevels > \u001b[32m1\u001b[39m:\n\u001b[32m   4101\u001b[39m     \u001b[38;5;28;01mreturn\u001b[39;00m \u001b[38;5;28mself\u001b[39m._getitem_multilevel(key)\n\u001b[32m-> \u001b[39m\u001b[32m4102\u001b[39m indexer = \u001b[38;5;28;43mself\u001b[39;49m\u001b[43m.\u001b[49m\u001b[43mcolumns\u001b[49m\u001b[43m.\u001b[49m\u001b[43mget_loc\u001b[49m\u001b[43m(\u001b[49m\u001b[43mkey\u001b[49m\u001b[43m)\u001b[49m\n\u001b[32m   4103\u001b[39m \u001b[38;5;28;01mif\u001b[39;00m is_integer(indexer):\n\u001b[32m   4104\u001b[39m     indexer = [indexer]\n",
      "\u001b[36mFile \u001b[39m\u001b[32m~/Desktop/capstone-project-2025-t1-25t1-9900-t12a-chocolate/.venv/lib/python3.13/site-packages/pandas/core/indexes/range.py:417\u001b[39m, in \u001b[36mRangeIndex.get_loc\u001b[39m\u001b[34m(self, key)\u001b[39m\n\u001b[32m    415\u001b[39m         \u001b[38;5;28;01mraise\u001b[39;00m \u001b[38;5;167;01mKeyError\u001b[39;00m(key) \u001b[38;5;28;01mfrom\u001b[39;00m\u001b[38;5;250m \u001b[39m\u001b[34;01merr\u001b[39;00m\n\u001b[32m    416\u001b[39m \u001b[38;5;28;01mif\u001b[39;00m \u001b[38;5;28misinstance\u001b[39m(key, Hashable):\n\u001b[32m--> \u001b[39m\u001b[32m417\u001b[39m     \u001b[38;5;28;01mraise\u001b[39;00m \u001b[38;5;167;01mKeyError\u001b[39;00m(key)\n\u001b[32m    418\u001b[39m \u001b[38;5;28mself\u001b[39m._check_indexing_error(key)\n\u001b[32m    419\u001b[39m \u001b[38;5;28;01mraise\u001b[39;00m \u001b[38;5;167;01mKeyError\u001b[39;00m(key)\n",
      "\u001b[31mKeyError\u001b[39m: 'company'"
     ]
    }
   ],
   "source": [
    "df_avix = query_esg_data_by_topic(topic_keyword=\"\", industry_name=\"semiconductors\", data_type=\"Quantitative\")\n",
    "df_avix = df_avix[df_avix[\"company\"].str.lower().str.contains(\"avix\")]\n",
    "\n",
    "# Show first few rows\n",
    "print(df_avix[[\"company\", \"year\", \"metric\", \"pillar\", \"category\", \"value\"]].head())"
   ]
  },
  {
   "cell_type": "code",
   "execution_count": 2,
   "metadata": {},
   "outputs": [
    {
     "name": "stdout",
     "output_type": "stream",
     "text": [
      "📤 Running SPARQL query:\n",
      " \n",
      "    PREFIX ex: <http://example.org/esg/>\n",
      "    PREFIX xsd: <http://www.w3.org/2001/XMLSchema#>\n",
      "\n",
      "    SELECT ?company ?year ?metric ?value ?category ?industry ?data_type\n",
      "    WHERE {\n",
      "      ?obs a ex:ESGObservation ;\n",
      "           ex:hasCompany ?company ;\n",
      "           ex:hasYear ?year ;\n",
      "           ex:hasMetric ?metric ;\n",
      "           ex:hasCategory ?category ;\n",
      "           ex:hasIndustry ?industry ;\n",
      "           ex:hasValue ?value ;\n",
      "           ex:hasDataType ?data_type .\n",
      "\n",
      "      FILTER(CONTAINS(LCASE(STR(?category)), \"ghg\"))\n",
      "      FILTER(CONTAINS(LCASE(STR(?industry)), \"semiconductor\"))\n",
      "      FILTER(LCASE(STR(?data_type)) = \"quantitative\")\n",
      "    }\n",
      "    \n",
      "✅ Query executed successfully.\n",
      "📦 DataFrame shape: (15229, 7)\n",
      "\n",
      "🔍 Sample results:\n",
      "                              company  year         metric     value  \\\n",
      "0  Company_3Dfamily_Technology_Co_Ltd  2016  GHG_Emissions  0.005889   \n",
      "1  Company_3Dfamily_Technology_Co_Ltd  2016  GHG_Emissions  0.091220   \n",
      "2  Company_3Dfamily_Technology_Co_Ltd  2016  GHG_Emissions  0.005889   \n",
      "3  Company_3Dfamily_Technology_Co_Ltd  2016  GHG_Emissions  0.091220   \n",
      "4  Company_3Dfamily_Technology_Co_Ltd  2017  GHG_Emissions  0.007325   \n",
      "\n",
      "                         category                 industry     data_type  \n",
      "0  Category_GHG_Emissions_Scope_1  Industry_Semiconductors  quantitative  \n",
      "1  Category_GHG_Emissions_Scope_1  Industry_Semiconductors  quantitative  \n",
      "2  Category_GHG_Emissions_Scope_2  Industry_Semiconductors  quantitative  \n",
      "3  Category_GHG_Emissions_Scope_2  Industry_Semiconductors  quantitative  \n",
      "4  Category_GHG_Emissions_Scope_1  Industry_Semiconductors  quantitative  \n",
      "\n",
      "📊 Pivoted data for PCA:\n",
      "metric                             company  year  GHG_Emissions\n",
      "0       Company_3Dfamily_Technology_Co_Ltd  2016       0.048554\n",
      "1       Company_3Dfamily_Technology_Co_Ltd  2017       0.032041\n",
      "2       Company_3Dfamily_Technology_Co_Ltd  2018       0.348513\n",
      "3       Company_3Dfamily_Technology_Co_Ltd  2019       0.053281\n",
      "4              Company_3S_Silicon_Tech_Inc  2016       0.078079\n"
     ]
    }
   ],
   "source": [
    "# 🔬 Test query: get GHG emissions for semiconductors (quantitative only)\n",
    "df_test = query_esg_data_by_topic(\n",
    "    topic_keyword=\"ghg\",\n",
    "    industry_name=\"semiconductor\",\n",
    "    data_type=\"quantitative\"\n",
    ")\n",
    "\n",
    "print(\"\\n🔍 Sample results:\")\n",
    "print(df_test.head())\n",
    "\n",
    "# ➕ Optional: Pivot for PCA\n",
    "if not df_test.empty:\n",
    "    df_pivot = df_test.pivot_table(\n",
    "        index=[\"company\", \"year\"],\n",
    "        columns=\"metric\",\n",
    "        values=\"value\"\n",
    "    ).reset_index()\n",
    "    print(\"\\n📊 Pivoted data for PCA:\")\n",
    "    print(df_pivot.head())"
   ]
  },
  {
   "cell_type": "code",
   "execution_count": 6,
   "metadata": {},
   "outputs": [
    {
     "name": "stdout",
     "output_type": "stream",
     "text": [
      "📤 Running SPARQL query:\n",
      " \n",
      "    PREFIX ex: <http://example.org/esg/>\n",
      "    PREFIX xsd: <http://www.w3.org/2001/XMLSchema#>\n",
      "\n",
      "    SELECT ?company ?year ?metric ?value ?category ?industry ?data_type\n",
      "    WHERE {\n",
      "      ?obs a ex:ESGObservation ;\n",
      "           ex:hasCompany ?company ;\n",
      "           ex:hasYear ?year ;\n",
      "           ex:hasMetric ?metric ;\n",
      "           ex:hasCategory ?category ;\n",
      "           ex:hasIndustry ?industry ;\n",
      "           ex:hasValue ?value ;\n",
      "           ex:hasDataType ?data_type .\n",
      "\n",
      "      FILTER(CONTAINS(LCASE(STR(?category)), \"ghg\"))\n",
      "      FILTER(CONTAINS(LCASE(STR(?industry)), \"semiconductors\"))\n",
      "      FILTER(LCASE(STR(?data_type)) = \"quantitative\")\n",
      "    }\n",
      "    \n",
      "✅ Query executed successfully.\n",
      "📦 DataFrame shape: (15229, 7)\n"
     ]
    },
    {
     "data": {
      "application/vnd.microsoft.datawrangler.viewer.v0+json": {
       "columns": [
        {
         "name": "index",
         "rawType": "int64",
         "type": "integer"
        },
        {
         "name": "company",
         "rawType": "object",
         "type": "string"
        },
        {
         "name": "year",
         "rawType": "int64",
         "type": "integer"
        },
        {
         "name": "metric",
         "rawType": "object",
         "type": "string"
        },
        {
         "name": "value",
         "rawType": "float64",
         "type": "float"
        },
        {
         "name": "category",
         "rawType": "object",
         "type": "string"
        },
        {
         "name": "industry",
         "rawType": "object",
         "type": "string"
        },
        {
         "name": "data_type",
         "rawType": "object",
         "type": "string"
        }
       ],
       "conversionMethod": "pd.DataFrame",
       "ref": "a5a51019-2e0c-4678-8b68-1ef7e9297f44",
       "rows": [
        [
         "0",
         "Company_3Dfamily_Technology_Co_Ltd",
         "2016",
         "GHG_Emissions",
         "0.005889251406293",
         "Category_GHG_Emissions_Scope_1",
         "Industry_Semiconductors",
         "quantitative"
        ],
        [
         "1",
         "Company_3Dfamily_Technology_Co_Ltd",
         "2016",
         "GHG_Emissions",
         "0.0912195066545133",
         "Category_GHG_Emissions_Scope_1",
         "Industry_Semiconductors",
         "quantitative"
        ],
        [
         "2",
         "Company_3Dfamily_Technology_Co_Ltd",
         "2016",
         "GHG_Emissions",
         "0.005889251406293",
         "Category_GHG_Emissions_Scope_2",
         "Industry_Semiconductors",
         "quantitative"
        ],
        [
         "3",
         "Company_3Dfamily_Technology_Co_Ltd",
         "2016",
         "GHG_Emissions",
         "0.0912195066545133",
         "Category_GHG_Emissions_Scope_2",
         "Industry_Semiconductors",
         "quantitative"
        ],
        [
         "4",
         "Company_3Dfamily_Technology_Co_Ltd",
         "2017",
         "GHG_Emissions",
         "0.0073246499530052",
         "Category_GHG_Emissions_Scope_1",
         "Industry_Semiconductors",
         "quantitative"
        ],
        [
         "5",
         "Company_3Dfamily_Technology_Co_Ltd",
         "2017",
         "GHG_Emissions",
         "0.0567571635048144",
         "Category_GHG_Emissions_Scope_1",
         "Industry_Semiconductors",
         "quantitative"
        ],
        [
         "6",
         "Company_3Dfamily_Technology_Co_Ltd",
         "2017",
         "GHG_Emissions",
         "0.0073246499530052",
         "Category_GHG_Emissions_Scope_2",
         "Industry_Semiconductors",
         "quantitative"
        ],
        [
         "7",
         "Company_3Dfamily_Technology_Co_Ltd",
         "2017",
         "GHG_Emissions",
         "0.0567571635048144",
         "Category_GHG_Emissions_Scope_2",
         "Industry_Semiconductors",
         "quantitative"
        ],
        [
         "8",
         "Company_3Dfamily_Technology_Co_Ltd",
         "2018",
         "GHG_Emissions",
         "0.0073246499530052",
         "Category_GHG_Emissions_Scope_1",
         "Industry_Semiconductors",
         "quantitative"
        ],
        [
         "9",
         "Company_3Dfamily_Technology_Co_Ltd",
         "2018",
         "GHG_Emissions",
         "0.0567571635048144",
         "Category_GHG_Emissions_Scope_1",
         "Industry_Semiconductors",
         "quantitative"
        ],
        [
         "10",
         "Company_3Dfamily_Technology_Co_Ltd",
         "2018",
         "GHG_Emissions",
         "0.9814576607121052",
         "Category_GHG_Emissions_Scope_1",
         "Industry_Semiconductors",
         "quantitative"
        ],
        [
         "11",
         "Company_3Dfamily_Technology_Co_Ltd",
         "2018",
         "GHG_Emissions",
         "0.0073246499530052",
         "Category_GHG_Emissions_Scope_2",
         "Industry_Semiconductors",
         "quantitative"
        ],
        [
         "12",
         "Company_3Dfamily_Technology_Co_Ltd",
         "2018",
         "GHG_Emissions",
         "0.0567571635048144",
         "Category_GHG_Emissions_Scope_2",
         "Industry_Semiconductors",
         "quantitative"
        ],
        [
         "13",
         "Company_3Dfamily_Technology_Co_Ltd",
         "2018",
         "GHG_Emissions",
         "0.9814576607121052",
         "Category_GHG_Emissions_Scope_2",
         "Industry_Semiconductors",
         "quantitative"
        ],
        [
         "14",
         "Company_3Dfamily_Technology_Co_Ltd",
         "2018",
         "GHG_Emissions",
         "0.0073246499530052",
         "Category_GHG_Emissions_Scope_3",
         "Industry_Semiconductors",
         "quantitative"
        ],
        [
         "15",
         "Company_3Dfamily_Technology_Co_Ltd",
         "2018",
         "GHG_Emissions",
         "0.0567571635048144",
         "Category_GHG_Emissions_Scope_3",
         "Industry_Semiconductors",
         "quantitative"
        ],
        [
         "16",
         "Company_3Dfamily_Technology_Co_Ltd",
         "2018",
         "GHG_Emissions",
         "0.9814576607121052",
         "Category_GHG_Emissions_Scope_3",
         "Industry_Semiconductors",
         "quantitative"
        ],
        [
         "17",
         "Company_3Dfamily_Technology_Co_Ltd",
         "2019",
         "GHG_Emissions",
         "0.0078045359161988",
         "Category_GHG_Emissions_Scope_1",
         "Industry_Semiconductors",
         "quantitative"
        ],
        [
         "18",
         "Company_3Dfamily_Technology_Co_Ltd",
         "2019",
         "GHG_Emissions",
         "0.0452697157882481",
         "Category_GHG_Emissions_Scope_1",
         "Industry_Semiconductors",
         "quantitative"
        ],
        [
         "19",
         "Company_3Dfamily_Technology_Co_Ltd",
         "2019",
         "GHG_Emissions",
         "0.1067675279057946",
         "Category_GHG_Emissions_Scope_1",
         "Industry_Semiconductors",
         "quantitative"
        ],
        [
         "20",
         "Company_3Dfamily_Technology_Co_Ltd",
         "2019",
         "GHG_Emissions",
         "0.0078045359161988",
         "Category_GHG_Emissions_Scope_2",
         "Industry_Semiconductors",
         "quantitative"
        ],
        [
         "21",
         "Company_3Dfamily_Technology_Co_Ltd",
         "2019",
         "GHG_Emissions",
         "0.0452697157882481",
         "Category_GHG_Emissions_Scope_2",
         "Industry_Semiconductors",
         "quantitative"
        ],
        [
         "22",
         "Company_3Dfamily_Technology_Co_Ltd",
         "2019",
         "GHG_Emissions",
         "0.1067675279057946",
         "Category_GHG_Emissions_Scope_2",
         "Industry_Semiconductors",
         "quantitative"
        ],
        [
         "23",
         "Company_3Dfamily_Technology_Co_Ltd",
         "2019",
         "GHG_Emissions",
         "0.0078045359161988",
         "Category_GHG_Emissions_Scope_3",
         "Industry_Semiconductors",
         "quantitative"
        ],
        [
         "24",
         "Company_3Dfamily_Technology_Co_Ltd",
         "2019",
         "GHG_Emissions",
         "0.0452697157882481",
         "Category_GHG_Emissions_Scope_3",
         "Industry_Semiconductors",
         "quantitative"
        ],
        [
         "25",
         "Company_3Dfamily_Technology_Co_Ltd",
         "2019",
         "GHG_Emissions",
         "0.1067675279057946",
         "Category_GHG_Emissions_Scope_3",
         "Industry_Semiconductors",
         "quantitative"
        ],
        [
         "26",
         "Company_3S_Silicon_Tech_Inc",
         "2016",
         "GHG_Emissions",
         "0.0138031104561188",
         "Category_GHG_Emissions_Scope_1",
         "Industry_Semiconductors",
         "quantitative"
        ],
        [
         "27",
         "Company_3S_Silicon_Tech_Inc",
         "2016",
         "GHG_Emissions",
         "0.1423557573537554",
         "Category_GHG_Emissions_Scope_1",
         "Industry_Semiconductors",
         "quantitative"
        ],
        [
         "28",
         "Company_3S_Silicon_Tech_Inc",
         "2016",
         "GHG_Emissions",
         "0.0138031104561188",
         "Category_GHG_Emissions_Scope_2",
         "Industry_Semiconductors",
         "quantitative"
        ],
        [
         "29",
         "Company_3S_Silicon_Tech_Inc",
         "2016",
         "GHG_Emissions",
         "0.1423557573537554",
         "Category_GHG_Emissions_Scope_2",
         "Industry_Semiconductors",
         "quantitative"
        ],
        [
         "30",
         "Company_3S_Silicon_Tech_Inc",
         "2017",
         "GHG_Emissions",
         "0.0124983317573764",
         "Category_GHG_Emissions_Scope_1",
         "Industry_Semiconductors",
         "quantitative"
        ],
        [
         "31",
         "Company_3S_Silicon_Tech_Inc",
         "2017",
         "GHG_Emissions",
         "0.1666467897332799",
         "Category_GHG_Emissions_Scope_1",
         "Industry_Semiconductors",
         "quantitative"
        ],
        [
         "32",
         "Company_3S_Silicon_Tech_Inc",
         "2017",
         "GHG_Emissions",
         "0.0124983317573764",
         "Category_GHG_Emissions_Scope_2",
         "Industry_Semiconductors",
         "quantitative"
        ],
        [
         "33",
         "Company_3S_Silicon_Tech_Inc",
         "2017",
         "GHG_Emissions",
         "0.1666467897332799",
         "Category_GHG_Emissions_Scope_2",
         "Industry_Semiconductors",
         "quantitative"
        ],
        [
         "34",
         "Company_3S_Silicon_Tech_Inc",
         "2018",
         "GHG_Emissions",
         "0.0123975273094866",
         "Category_GHG_Emissions_Scope_1",
         "Industry_Semiconductors",
         "quantitative"
        ],
        [
         "35",
         "Company_3S_Silicon_Tech_Inc",
         "2018",
         "GHG_Emissions",
         "0.1585412602543679",
         "Category_GHG_Emissions_Scope_1",
         "Industry_Semiconductors",
         "quantitative"
        ],
        [
         "36",
         "Company_3S_Silicon_Tech_Inc",
         "2018",
         "GHG_Emissions",
         "0.0123975273094866",
         "Category_GHG_Emissions_Scope_2",
         "Industry_Semiconductors",
         "quantitative"
        ],
        [
         "37",
         "Company_3S_Silicon_Tech_Inc",
         "2018",
         "GHG_Emissions",
         "0.1585412602543679",
         "Category_GHG_Emissions_Scope_2",
         "Industry_Semiconductors",
         "quantitative"
        ],
        [
         "38",
         "Company_3S_Silicon_Tech_Inc",
         "2019",
         "GHG_Emissions",
         "0.0112631223254876",
         "Category_GHG_Emissions_Scope_1",
         "Industry_Semiconductors",
         "quantitative"
        ],
        [
         "39",
         "Company_3S_Silicon_Tech_Inc",
         "2019",
         "GHG_Emissions",
         "0.1528266419056868",
         "Category_GHG_Emissions_Scope_1",
         "Industry_Semiconductors",
         "quantitative"
        ],
        [
         "40",
         "Company_3S_Silicon_Tech_Inc",
         "2019",
         "GHG_Emissions",
         "0.9347142122913276",
         "Category_GHG_Emissions_Scope_1",
         "Industry_Semiconductors",
         "quantitative"
        ],
        [
         "41",
         "Company_3S_Silicon_Tech_Inc",
         "2019",
         "GHG_Emissions",
         "0.0112631223254876",
         "Category_GHG_Emissions_Scope_2",
         "Industry_Semiconductors",
         "quantitative"
        ],
        [
         "42",
         "Company_3S_Silicon_Tech_Inc",
         "2019",
         "GHG_Emissions",
         "0.1528266419056868",
         "Category_GHG_Emissions_Scope_2",
         "Industry_Semiconductors",
         "quantitative"
        ],
        [
         "43",
         "Company_3S_Silicon_Tech_Inc",
         "2019",
         "GHG_Emissions",
         "0.9347142122913276",
         "Category_GHG_Emissions_Scope_2",
         "Industry_Semiconductors",
         "quantitative"
        ],
        [
         "44",
         "Company_3S_Silicon_Tech_Inc",
         "2019",
         "GHG_Emissions",
         "0.0112631223254876",
         "Category_GHG_Emissions_Scope_3",
         "Industry_Semiconductors",
         "quantitative"
        ],
        [
         "45",
         "Company_3S_Silicon_Tech_Inc",
         "2019",
         "GHG_Emissions",
         "0.1528266419056868",
         "Category_GHG_Emissions_Scope_3",
         "Industry_Semiconductors",
         "quantitative"
        ],
        [
         "46",
         "Company_3S_Silicon_Tech_Inc",
         "2019",
         "GHG_Emissions",
         "0.9347142122913276",
         "Category_GHG_Emissions_Scope_3",
         "Industry_Semiconductors",
         "quantitative"
        ],
        [
         "47",
         "Company_3S_Silicon_Tech_Inc",
         "2020",
         "GHG_Emissions",
         "0.0099682820934386",
         "Category_GHG_Emissions_Scope_1",
         "Industry_Semiconductors",
         "quantitative"
        ],
        [
         "48",
         "Company_3S_Silicon_Tech_Inc",
         "2020",
         "GHG_Emissions",
         "0.1428583598122481",
         "Category_GHG_Emissions_Scope_1",
         "Industry_Semiconductors",
         "quantitative"
        ],
        [
         "49",
         "Company_3S_Silicon_Tech_Inc",
         "2020",
         "GHG_Emissions",
         "0.0099682820934386",
         "Category_GHG_Emissions_Scope_2",
         "Industry_Semiconductors",
         "quantitative"
        ]
       ],
       "shape": {
        "columns": 7,
        "rows": 15229
       }
      },
      "text/html": [
       "<div>\n",
       "<style scoped>\n",
       "    .dataframe tbody tr th:only-of-type {\n",
       "        vertical-align: middle;\n",
       "    }\n",
       "\n",
       "    .dataframe tbody tr th {\n",
       "        vertical-align: top;\n",
       "    }\n",
       "\n",
       "    .dataframe thead th {\n",
       "        text-align: right;\n",
       "    }\n",
       "</style>\n",
       "<table border=\"1\" class=\"dataframe\">\n",
       "  <thead>\n",
       "    <tr style=\"text-align: right;\">\n",
       "      <th></th>\n",
       "      <th>company</th>\n",
       "      <th>year</th>\n",
       "      <th>metric</th>\n",
       "      <th>value</th>\n",
       "      <th>category</th>\n",
       "      <th>industry</th>\n",
       "      <th>data_type</th>\n",
       "    </tr>\n",
       "  </thead>\n",
       "  <tbody>\n",
       "    <tr>\n",
       "      <th>0</th>\n",
       "      <td>Company_3Dfamily_Technology_Co_Ltd</td>\n",
       "      <td>2016</td>\n",
       "      <td>GHG_Emissions</td>\n",
       "      <td>0.005889</td>\n",
       "      <td>Category_GHG_Emissions_Scope_1</td>\n",
       "      <td>Industry_Semiconductors</td>\n",
       "      <td>quantitative</td>\n",
       "    </tr>\n",
       "    <tr>\n",
       "      <th>1</th>\n",
       "      <td>Company_3Dfamily_Technology_Co_Ltd</td>\n",
       "      <td>2016</td>\n",
       "      <td>GHG_Emissions</td>\n",
       "      <td>0.091220</td>\n",
       "      <td>Category_GHG_Emissions_Scope_1</td>\n",
       "      <td>Industry_Semiconductors</td>\n",
       "      <td>quantitative</td>\n",
       "    </tr>\n",
       "    <tr>\n",
       "      <th>2</th>\n",
       "      <td>Company_3Dfamily_Technology_Co_Ltd</td>\n",
       "      <td>2016</td>\n",
       "      <td>GHG_Emissions</td>\n",
       "      <td>0.005889</td>\n",
       "      <td>Category_GHG_Emissions_Scope_2</td>\n",
       "      <td>Industry_Semiconductors</td>\n",
       "      <td>quantitative</td>\n",
       "    </tr>\n",
       "    <tr>\n",
       "      <th>3</th>\n",
       "      <td>Company_3Dfamily_Technology_Co_Ltd</td>\n",
       "      <td>2016</td>\n",
       "      <td>GHG_Emissions</td>\n",
       "      <td>0.091220</td>\n",
       "      <td>Category_GHG_Emissions_Scope_2</td>\n",
       "      <td>Industry_Semiconductors</td>\n",
       "      <td>quantitative</td>\n",
       "    </tr>\n",
       "    <tr>\n",
       "      <th>4</th>\n",
       "      <td>Company_3Dfamily_Technology_Co_Ltd</td>\n",
       "      <td>2017</td>\n",
       "      <td>GHG_Emissions</td>\n",
       "      <td>0.007325</td>\n",
       "      <td>Category_GHG_Emissions_Scope_1</td>\n",
       "      <td>Industry_Semiconductors</td>\n",
       "      <td>quantitative</td>\n",
       "    </tr>\n",
       "    <tr>\n",
       "      <th>...</th>\n",
       "      <td>...</td>\n",
       "      <td>...</td>\n",
       "      <td>...</td>\n",
       "      <td>...</td>\n",
       "      <td>...</td>\n",
       "      <td>...</td>\n",
       "      <td>...</td>\n",
       "    </tr>\n",
       "    <tr>\n",
       "      <th>15224</th>\n",
       "      <td>Company_p-ban_com_Corp</td>\n",
       "      <td>2022</td>\n",
       "      <td>GHG_Emissions</td>\n",
       "      <td>0.000080</td>\n",
       "      <td>Category_GHG_Emissions_Scope_1</td>\n",
       "      <td>Industry_Semiconductors</td>\n",
       "      <td>quantitative</td>\n",
       "    </tr>\n",
       "    <tr>\n",
       "      <th>15225</th>\n",
       "      <td>Company_p-ban_com_Corp</td>\n",
       "      <td>2022</td>\n",
       "      <td>GHG_Emissions</td>\n",
       "      <td>0.087721</td>\n",
       "      <td>Category_GHG_Emissions_Scope_1</td>\n",
       "      <td>Industry_Semiconductors</td>\n",
       "      <td>quantitative</td>\n",
       "    </tr>\n",
       "    <tr>\n",
       "      <th>15226</th>\n",
       "      <td>Company_p-ban_com_Corp</td>\n",
       "      <td>2022</td>\n",
       "      <td>GHG_Emissions</td>\n",
       "      <td>0.000080</td>\n",
       "      <td>Category_GHG_Emissions_Scope_2</td>\n",
       "      <td>Industry_Semiconductors</td>\n",
       "      <td>quantitative</td>\n",
       "    </tr>\n",
       "    <tr>\n",
       "      <th>15227</th>\n",
       "      <td>Company_p-ban_com_Corp</td>\n",
       "      <td>2022</td>\n",
       "      <td>GHG_Emissions</td>\n",
       "      <td>0.087721</td>\n",
       "      <td>Category_GHG_Emissions_Scope_2</td>\n",
       "      <td>Industry_Semiconductors</td>\n",
       "      <td>quantitative</td>\n",
       "    </tr>\n",
       "    <tr>\n",
       "      <th>15228</th>\n",
       "      <td>Company_uPI_Semiconductor_Corp</td>\n",
       "      <td>2022</td>\n",
       "      <td>GHG_Emissions</td>\n",
       "      <td>0.267146</td>\n",
       "      <td>Category_GHG_Emissions_Scope_2</td>\n",
       "      <td>Industry_Semiconductors</td>\n",
       "      <td>quantitative</td>\n",
       "    </tr>\n",
       "  </tbody>\n",
       "</table>\n",
       "<p>15229 rows × 7 columns</p>\n",
       "</div>"
      ],
      "text/plain": [
       "                                  company  year         metric     value  \\\n",
       "0      Company_3Dfamily_Technology_Co_Ltd  2016  GHG_Emissions  0.005889   \n",
       "1      Company_3Dfamily_Technology_Co_Ltd  2016  GHG_Emissions  0.091220   \n",
       "2      Company_3Dfamily_Technology_Co_Ltd  2016  GHG_Emissions  0.005889   \n",
       "3      Company_3Dfamily_Technology_Co_Ltd  2016  GHG_Emissions  0.091220   \n",
       "4      Company_3Dfamily_Technology_Co_Ltd  2017  GHG_Emissions  0.007325   \n",
       "...                                   ...   ...            ...       ...   \n",
       "15224              Company_p-ban_com_Corp  2022  GHG_Emissions  0.000080   \n",
       "15225              Company_p-ban_com_Corp  2022  GHG_Emissions  0.087721   \n",
       "15226              Company_p-ban_com_Corp  2022  GHG_Emissions  0.000080   \n",
       "15227              Company_p-ban_com_Corp  2022  GHG_Emissions  0.087721   \n",
       "15228      Company_uPI_Semiconductor_Corp  2022  GHG_Emissions  0.267146   \n",
       "\n",
       "                             category                 industry     data_type  \n",
       "0      Category_GHG_Emissions_Scope_1  Industry_Semiconductors  quantitative  \n",
       "1      Category_GHG_Emissions_Scope_1  Industry_Semiconductors  quantitative  \n",
       "2      Category_GHG_Emissions_Scope_2  Industry_Semiconductors  quantitative  \n",
       "3      Category_GHG_Emissions_Scope_2  Industry_Semiconductors  quantitative  \n",
       "4      Category_GHG_Emissions_Scope_1  Industry_Semiconductors  quantitative  \n",
       "...                               ...                      ...           ...  \n",
       "15224  Category_GHG_Emissions_Scope_1  Industry_Semiconductors  quantitative  \n",
       "15225  Category_GHG_Emissions_Scope_1  Industry_Semiconductors  quantitative  \n",
       "15226  Category_GHG_Emissions_Scope_2  Industry_Semiconductors  quantitative  \n",
       "15227  Category_GHG_Emissions_Scope_2  Industry_Semiconductors  quantitative  \n",
       "15228  Category_GHG_Emissions_Scope_2  Industry_Semiconductors  quantitative  \n",
       "\n",
       "[15229 rows x 7 columns]"
      ]
     },
     "execution_count": 6,
     "metadata": {},
     "output_type": "execute_result"
    }
   ],
   "source": [
    "query_esg_data_by_topic(\"ghg\", \"semiconductors\", data_type=\"quantitative\")"
   ]
  },
  {
   "cell_type": "code",
   "execution_count": 7,
   "metadata": {},
   "outputs": [
    {
     "name": "stdout",
     "output_type": "stream",
     "text": [
      "['GHG_Emissions']\n"
     ]
    }
   ],
   "source": [
    "print(df_test[\"metric\"].unique())"
   ]
  },
  {
   "cell_type": "code",
   "execution_count": 8,
   "metadata": {},
   "outputs": [
    {
     "name": "stdout",
     "output_type": "stream",
     "text": [
      "company      0\n",
      "year         0\n",
      "metric       0\n",
      "value        0\n",
      "category     0\n",
      "industry     0\n",
      "data_type    0\n",
      "dtype: int64\n"
     ]
    }
   ],
   "source": [
    "print(df_test.isna().sum())"
   ]
  },
  {
   "cell_type": "code",
   "execution_count": 9,
   "metadata": {},
   "outputs": [
    {
     "name": "stdout",
     "output_type": "stream",
     "text": [
      "📤 Running SPARQL query:\n",
      " \n",
      "    PREFIX ex: <http://example.org/esg/>\n",
      "    PREFIX xsd: <http://www.w3.org/2001/XMLSchema#>\n",
      "\n",
      "    SELECT ?company ?year ?metric ?value ?category ?industry ?data_type\n",
      "    WHERE {\n",
      "      ?obs a ex:ESGObservation ;\n",
      "           ex:hasCompany ?company ;\n",
      "           ex:hasYear ?year ;\n",
      "           ex:hasMetric ?metric ;\n",
      "           ex:hasCategory ?category ;\n",
      "           ex:hasIndustry ?industry ;\n",
      "           ex:hasValue ?value ;\n",
      "           ex:hasDataType ?data_type .\n",
      "\n",
      "      FILTER(CONTAINS(LCASE(STR(?category)), \"\"))\n",
      "      FILTER(CONTAINS(LCASE(STR(?industry)), \"semiconductor\"))\n",
      "      FILTER(LCASE(STR(?data_type)) = \"quantitative\")\n",
      "    }\n",
      "    \n",
      "✅ Query executed successfully.\n",
      "📦 DataFrame shape: (38234, 7)\n",
      "📤 Running SPARQL query:\n",
      " \n",
      "    PREFIX ex: <http://example.org/esg/>\n",
      "    PREFIX xsd: <http://www.w3.org/2001/XMLSchema#>\n",
      "\n",
      "    SELECT ?company ?year ?metric ?value ?category ?industry ?data_type\n",
      "    WHERE {\n",
      "      ?obs a ex:ESGObservation ;\n",
      "           ex:hasCompany ?company ;\n",
      "           ex:hasYear ?year ;\n",
      "           ex:hasMetric ?metric ;\n",
      "           ex:hasCategory ?category ;\n",
      "           ex:hasIndustry ?industry ;\n",
      "           ex:hasValue ?value ;\n",
      "           ex:hasDataType ?data_type .\n",
      "\n",
      "      FILTER(CONTAINS(LCASE(STR(?category)), \"\"))\n",
      "      FILTER(CONTAINS(LCASE(STR(?industry)), \"biotechnology\"))\n",
      "      FILTER(LCASE(STR(?data_type)) = \"quantitative\")\n",
      "    }\n",
      "    \n",
      "✅ Query executed successfully.\n",
      "📦 DataFrame shape: (5476, 7)\n"
     ]
    }
   ],
   "source": [
    "df_semiconductor = query_esg_data_by_topic(\"\", \"semiconductor\", data_type=\"quantitative\")\n",
    "df_biopharma = query_esg_data_by_topic(\"\", \"biotechnology\", data_type=\"quantitative\")"
   ]
  },
  {
   "cell_type": "code",
   "execution_count": 19,
   "metadata": {},
   "outputs": [],
   "source": [
    "# 🧱 Pivot to wide matrix\n",
    "df_pivot_pharma = df_biopharma.pivot_table(\n",
    "    index=[\"company\", \"year\"],  # keep year as part of index\n",
    "    columns=\"metric\",\n",
    "    values=\"value\"\n",
    ").reset_index()\n",
    "\n",
    "# 🧭 Sort by year (ascending) and company name (optional)\n",
    "df_pivot_pharma = df_pivot_pharma.sort_values(by=[\"company\", \"year\"]).reset_index(drop=True)"
   ]
  },
  {
   "cell_type": "code",
   "execution_count": 20,
   "metadata": {},
   "outputs": [],
   "source": [
    "# 🧱 Pivot to wide matrix\n",
    "df_pivot_semi = df_semiconductor.pivot_table(\n",
    "    index=[\"company\", \"year\"],  # keep year as part of index\n",
    "    columns=\"metric\",\n",
    "    values=\"value\"\n",
    ").reset_index()\n",
    "\n",
    "# 🧭 Sort by year (ascending) and company name (optional)\n",
    "df_pivot_semi = df_pivot_semi.sort_values(by=[\"company\", \"year\"]).reset_index(drop=True)"
   ]
  },
  {
   "cell_type": "code",
   "execution_count": 11,
   "metadata": {},
   "outputs": [
    {
     "name": "stdout",
     "output_type": "stream",
     "text": [
      "📤 Running SPARQL query:\n",
      " \n",
      "    PREFIX ex: <http://example.org/esg/>\n",
      "    PREFIX xsd: <http://www.w3.org/2001/XMLSchema#>\n",
      "\n",
      "    SELECT ?company ?year ?metric ?value ?category ?pillar ?industry ?data_type\n",
      "    WHERE {\n",
      "      ?obs a ex:ESGObservation ;\n",
      "           ex:hasCompany ?company ;\n",
      "           ex:hasYear ?year ;\n",
      "           ex:hasMetric ?metric ;\n",
      "           ex:hasCategory ?category ;\n",
      "           ex:hasPillar ?pillar ;\n",
      "           ex:hasIndustry ?industry ;\n",
      "           ex:hasValue ?value ;\n",
      "           ex:hasDataType ?data_type .\n",
      "\n",
      "      FILTER(CONTAINS(LCASE(STR(?category)), \"ghg\"))\n",
      "      FILTER(CONTAINS(LCASE(STR(?industry)), \"semiconductor\"))\n",
      "      FILTER(LCASE(STR(?data_type)) = \"quantitative\")\n",
      "    }\n",
      "    \n",
      "Query executed successfully.\n",
      "DataFrame shape: (0, 0)\n",
      "RangeIndex(start=0, stop=0, step=1)\n",
      "(0, 0)\n",
      "Empty DataFrame\n",
      "Columns: []\n",
      "Index: []\n"
     ]
    }
   ],
   "source": [
    "df_avix = query_esg_data_by_topic(\"ghg\", \"semiconductor\", data_type=\"quantitative\")\n",
    "print(df_avix.columns)\n",
    "print(df_avix.shape)\n",
    "print(df_avix.head())"
   ]
  },
  {
   "cell_type": "code",
   "execution_count": 13,
   "metadata": {},
   "outputs": [
    {
     "name": "stdout",
     "output_type": "stream",
     "text": [
      "📤 Running SPARQL query:\n",
      " \n",
      "    PREFIX ex: <http://example.org/esg/>\n",
      "    PREFIX xsd: <http://www.w3.org/2001/XMLSchema#>\n",
      "\n",
      "    SELECT ?company ?year ?metric ?value ?category ?pillar ?industry ?data_type\n",
      "    WHERE {\n",
      "      ?obs a ex:ESGObservation ;\n",
      "           ex:hasCompany ?company ;\n",
      "           ex:hasYear ?year ;\n",
      "           ex:hasMetric ?metric ;\n",
      "           ex:hasCategory ?category ;\n",
      "           ex:hasPillar ?pillar ;\n",
      "           ex:hasIndustry ?industry ;\n",
      "           ex:hasValue ?value ;\n",
      "           ex:hasDataType ?data_type .\n",
      "\n",
      "      FILTER(CONTAINS(LCASE(STR(?category)), \"\"))\n",
      "      FILTER(CONTAINS(LCASE(STR(?industry)), \"\"))\n",
      "      \n",
      "    }\n",
      "    \n",
      "Query executed successfully.\n",
      "DataFrame shape: (0, 0)\n"
     ]
    },
    {
     "ename": "KeyError",
     "evalue": "'company'",
     "output_type": "error",
     "traceback": [
      "\u001b[0;31m---------------------------------------------------------------------------\u001b[0m",
      "\u001b[0;31mKeyError\u001b[0m                                  Traceback (most recent call last)",
      "Cell \u001b[0;32mIn[13], line 4\u001b[0m\n\u001b[1;32m      1\u001b[0m df_avix_all \u001b[38;5;241m=\u001b[39m query_esg_data_by_topic(topic_keyword\u001b[38;5;241m=\u001b[39m\u001b[38;5;124m\"\u001b[39m\u001b[38;5;124m\"\u001b[39m, industry_name\u001b[38;5;241m=\u001b[39m\u001b[38;5;124m\"\u001b[39m\u001b[38;5;124m\"\u001b[39m)\n\u001b[1;32m      3\u001b[0m \u001b[38;5;66;03m# Now filter by company only\u001b[39;00m\n\u001b[0;32m----> 4\u001b[0m df_avix_all \u001b[38;5;241m=\u001b[39m df_avix_all[df_avix_all[\u001b[38;5;124m\"\u001b[39m\u001b[38;5;124mcompany\u001b[39m\u001b[38;5;124m\"\u001b[39m]\u001b[38;5;241m.\u001b[39mstr\u001b[38;5;241m.\u001b[39mlower()\u001b[38;5;241m.\u001b[39mstr\u001b[38;5;241m.\u001b[39mcontains(\u001b[38;5;124m\"\u001b[39m\u001b[38;5;124mavix\u001b[39m\u001b[38;5;124m\"\u001b[39m)]\n\u001b[1;32m      6\u001b[0m \u001b[38;5;66;03m# Show what we have\u001b[39;00m\n\u001b[1;32m      7\u001b[0m \u001b[38;5;28mprint\u001b[39m(\u001b[38;5;124m\"\u001b[39m\u001b[38;5;124m🔍 AVIX rows in dataset:\u001b[39m\u001b[38;5;124m\"\u001b[39m, df_avix_all\u001b[38;5;241m.\u001b[39mshape)\n",
      "File \u001b[0;32m/opt/anaconda3/lib/python3.12/site-packages/pandas/core/frame.py:4102\u001b[0m, in \u001b[0;36mDataFrame.__getitem__\u001b[0;34m(self, key)\u001b[0m\n\u001b[1;32m   4100\u001b[0m \u001b[38;5;28;01mif\u001b[39;00m \u001b[38;5;28mself\u001b[39m\u001b[38;5;241m.\u001b[39mcolumns\u001b[38;5;241m.\u001b[39mnlevels \u001b[38;5;241m>\u001b[39m \u001b[38;5;241m1\u001b[39m:\n\u001b[1;32m   4101\u001b[0m     \u001b[38;5;28;01mreturn\u001b[39;00m \u001b[38;5;28mself\u001b[39m\u001b[38;5;241m.\u001b[39m_getitem_multilevel(key)\n\u001b[0;32m-> 4102\u001b[0m indexer \u001b[38;5;241m=\u001b[39m \u001b[38;5;28mself\u001b[39m\u001b[38;5;241m.\u001b[39mcolumns\u001b[38;5;241m.\u001b[39mget_loc(key)\n\u001b[1;32m   4103\u001b[0m \u001b[38;5;28;01mif\u001b[39;00m is_integer(indexer):\n\u001b[1;32m   4104\u001b[0m     indexer \u001b[38;5;241m=\u001b[39m [indexer]\n",
      "File \u001b[0;32m/opt/anaconda3/lib/python3.12/site-packages/pandas/core/indexes/range.py:417\u001b[0m, in \u001b[0;36mRangeIndex.get_loc\u001b[0;34m(self, key)\u001b[0m\n\u001b[1;32m    415\u001b[0m         \u001b[38;5;28;01mraise\u001b[39;00m \u001b[38;5;167;01mKeyError\u001b[39;00m(key) \u001b[38;5;28;01mfrom\u001b[39;00m \u001b[38;5;21;01merr\u001b[39;00m\n\u001b[1;32m    416\u001b[0m \u001b[38;5;28;01mif\u001b[39;00m \u001b[38;5;28misinstance\u001b[39m(key, Hashable):\n\u001b[0;32m--> 417\u001b[0m     \u001b[38;5;28;01mraise\u001b[39;00m \u001b[38;5;167;01mKeyError\u001b[39;00m(key)\n\u001b[1;32m    418\u001b[0m \u001b[38;5;28mself\u001b[39m\u001b[38;5;241m.\u001b[39m_check_indexing_error(key)\n\u001b[1;32m    419\u001b[0m \u001b[38;5;28;01mraise\u001b[39;00m \u001b[38;5;167;01mKeyError\u001b[39;00m(key)\n",
      "\u001b[0;31mKeyError\u001b[0m: 'company'"
     ]
    }
   ],
   "source": [
    "df_avix_all = query_esg_data_by_topic(topic_keyword=\"\", industry_name=\"\")\n",
    "\n",
    "# Now filter by company only\n",
    "df_avix_all = df_avix_all[df_avix_all[\"company\"].str.lower().str.contains(\"avix\")]\n",
    "\n",
    "# Show what we have\n",
    "print(\"🔍 AVIX rows in dataset:\", df_avix_all.shape)\n",
    "print(df_avix_all[[\"company\", \"year\", \"metric\", \"pillar\", \"category\", \"value\"]].head())"
   ]
  },
  {
   "cell_type": "code",
   "execution_count": 12,
   "metadata": {},
   "outputs": [
    {
     "name": "stdout",
     "output_type": "stream",
     "text": [
      "📤 Running SPARQL query:\n",
      " \n",
      "    PREFIX ex: <http://example.org/esg/>\n",
      "    PREFIX xsd: <http://www.w3.org/2001/XMLSchema#>\n",
      "\n",
      "    SELECT ?company ?year ?metric ?value ?category ?pillar ?industry ?data_type\n",
      "    WHERE {\n",
      "      ?obs a ex:ESGObservation ;\n",
      "           ex:hasCompany ?company ;\n",
      "           ex:hasYear ?year ;\n",
      "           ex:hasMetric ?metric ;\n",
      "           ex:hasCategory ?category ;\n",
      "           ex:hasPillar ?pillar ;\n",
      "           ex:hasIndustry ?industry ;\n",
      "           ex:hasValue ?value ;\n",
      "           ex:hasDataType ?data_type .\n",
      "\n",
      "      FILTER(CONTAINS(LCASE(STR(?category)), \"\"))\n",
      "      FILTER(CONTAINS(LCASE(STR(?industry)), \"semiconductor\"))\n",
      "      FILTER(LCASE(STR(?data_type)) = \"quantitative\")\n",
      "    }\n",
      "    \n",
      "Query executed successfully.\n",
      "DataFrame shape: (0, 0)\n"
     ]
    },
    {
     "ename": "KeyError",
     "evalue": "'company'",
     "output_type": "error",
     "traceback": [
      "\u001b[0;31m---------------------------------------------------------------------------\u001b[0m",
      "\u001b[0;31mKeyError\u001b[0m                                  Traceback (most recent call last)",
      "Cell \u001b[0;32mIn[12], line 2\u001b[0m\n\u001b[1;32m      1\u001b[0m df_avix \u001b[38;5;241m=\u001b[39m query_esg_data_by_topic(\u001b[38;5;124m\"\u001b[39m\u001b[38;5;124m\"\u001b[39m, \u001b[38;5;124m\"\u001b[39m\u001b[38;5;124msemiconductor\u001b[39m\u001b[38;5;124m\"\u001b[39m, data_type\u001b[38;5;241m=\u001b[39m\u001b[38;5;124m\"\u001b[39m\u001b[38;5;124mquantitative\u001b[39m\u001b[38;5;124m\"\u001b[39m)\n\u001b[0;32m----> 2\u001b[0m df_avix \u001b[38;5;241m=\u001b[39m df_avix[df_avix[\u001b[38;5;124m\"\u001b[39m\u001b[38;5;124mcompany\u001b[39m\u001b[38;5;124m\"\u001b[39m]\u001b[38;5;241m.\u001b[39mstr\u001b[38;5;241m.\u001b[39mlower()\u001b[38;5;241m.\u001b[39mstr\u001b[38;5;241m.\u001b[39mcontains(\u001b[38;5;124m\"\u001b[39m\u001b[38;5;124mavix\u001b[39m\u001b[38;5;124m\"\u001b[39m)]\n\u001b[1;32m      3\u001b[0m \u001b[38;5;28mprint\u001b[39m(df_avix[[\u001b[38;5;124m\"\u001b[39m\u001b[38;5;124mcompany\u001b[39m\u001b[38;5;124m\"\u001b[39m, \u001b[38;5;124m\"\u001b[39m\u001b[38;5;124myear\u001b[39m\u001b[38;5;124m\"\u001b[39m, \u001b[38;5;124m\"\u001b[39m\u001b[38;5;124mmetric\u001b[39m\u001b[38;5;124m\"\u001b[39m, \u001b[38;5;124m\"\u001b[39m\u001b[38;5;124mpillar\u001b[39m\u001b[38;5;124m\"\u001b[39m, \u001b[38;5;124m\"\u001b[39m\u001b[38;5;124mcategory\u001b[39m\u001b[38;5;124m\"\u001b[39m, \u001b[38;5;124m\"\u001b[39m\u001b[38;5;124mvalue\u001b[39m\u001b[38;5;124m\"\u001b[39m]]\u001b[38;5;241m.\u001b[39mhead())\n",
      "File \u001b[0;32m/opt/anaconda3/lib/python3.12/site-packages/pandas/core/frame.py:4102\u001b[0m, in \u001b[0;36mDataFrame.__getitem__\u001b[0;34m(self, key)\u001b[0m\n\u001b[1;32m   4100\u001b[0m \u001b[38;5;28;01mif\u001b[39;00m \u001b[38;5;28mself\u001b[39m\u001b[38;5;241m.\u001b[39mcolumns\u001b[38;5;241m.\u001b[39mnlevels \u001b[38;5;241m>\u001b[39m \u001b[38;5;241m1\u001b[39m:\n\u001b[1;32m   4101\u001b[0m     \u001b[38;5;28;01mreturn\u001b[39;00m \u001b[38;5;28mself\u001b[39m\u001b[38;5;241m.\u001b[39m_getitem_multilevel(key)\n\u001b[0;32m-> 4102\u001b[0m indexer \u001b[38;5;241m=\u001b[39m \u001b[38;5;28mself\u001b[39m\u001b[38;5;241m.\u001b[39mcolumns\u001b[38;5;241m.\u001b[39mget_loc(key)\n\u001b[1;32m   4103\u001b[0m \u001b[38;5;28;01mif\u001b[39;00m is_integer(indexer):\n\u001b[1;32m   4104\u001b[0m     indexer \u001b[38;5;241m=\u001b[39m [indexer]\n",
      "File \u001b[0;32m/opt/anaconda3/lib/python3.12/site-packages/pandas/core/indexes/range.py:417\u001b[0m, in \u001b[0;36mRangeIndex.get_loc\u001b[0;34m(self, key)\u001b[0m\n\u001b[1;32m    415\u001b[0m         \u001b[38;5;28;01mraise\u001b[39;00m \u001b[38;5;167;01mKeyError\u001b[39;00m(key) \u001b[38;5;28;01mfrom\u001b[39;00m \u001b[38;5;21;01merr\u001b[39;00m\n\u001b[1;32m    416\u001b[0m \u001b[38;5;28;01mif\u001b[39;00m \u001b[38;5;28misinstance\u001b[39m(key, Hashable):\n\u001b[0;32m--> 417\u001b[0m     \u001b[38;5;28;01mraise\u001b[39;00m \u001b[38;5;167;01mKeyError\u001b[39;00m(key)\n\u001b[1;32m    418\u001b[0m \u001b[38;5;28mself\u001b[39m\u001b[38;5;241m.\u001b[39m_check_indexing_error(key)\n\u001b[1;32m    419\u001b[0m \u001b[38;5;28;01mraise\u001b[39;00m \u001b[38;5;167;01mKeyError\u001b[39;00m(key)\n",
      "\u001b[0;31mKeyError\u001b[0m: 'company'"
     ]
    }
   ],
   "source": [
    "df_avix = query_esg_data_by_topic(\"\", \"semiconductor\", data_type=\"quantitative\")\n",
    "df_avix = df_avix[df_avix[\"company\"].str.lower().str.contains(\"avix\")]\n",
    "print(df_avix[[\"company\", \"year\", \"metric\", \"pillar\", \"category\", \"value\"]].head())"
   ]
  }
 ],
 "metadata": {
  "kernelspec": {
   "display_name": ".venv",
   "language": "python",
   "name": "python3"
  },
  "language_info": {
   "codemirror_mode": {
    "name": "ipython",
    "version": 3
   },
   "file_extension": ".py",
   "mimetype": "text/x-python",
   "name": "python",
   "nbconvert_exporter": "python",
   "pygments_lexer": "ipython3",
   "version": "3.13.1"
  }
 },
 "nbformat": 4,
 "nbformat_minor": 2
}
