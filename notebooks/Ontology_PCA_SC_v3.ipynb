{
 "cells": [
  {
   "cell_type": "markdown",
   "metadata": {},
   "source": [
    "# GHG Emission Model"
   ]
  },
  {
   "cell_type": "markdown",
   "metadata": {},
   "source": [
    "### Importing Required Libraries for ESG PCA Analysis\n",
    "\n",
    "This cell imports libraries for data manipulation (Pandas, NumPy), visualization (Matplotlib, Seaborn), PCA and imputation (scikit-learn), SPARQL querying, and clustering analysis.\n"
   ]
  },
  {
   "cell_type": "code",
   "execution_count": 9,
   "metadata": {},
   "outputs": [],
   "source": [
    "import pandas as pd\n",
    "import numpy as np\n",
    "import matplotlib.pyplot as plt\n",
    "import seaborn as sns\n",
    "\n",
    "from sklearn.preprocessing import StandardScaler\n",
    "from sklearn.decomposition import PCA\n",
    "from sklearn.impute import KNNImputer\n",
    "from SPARQLWrapper import SPARQLWrapper, JSON"
   ]
  },
  {
   "cell_type": "code",
   "execution_count": 10,
   "metadata": {},
   "outputs": [],
   "source": [
    "# bp_df = pd.read_csv(\"/Users/sujanbharadwaj/Documents/Ontology_PCA_Project/Normalized_Data/biopharma_sasb_final.csv\")"
   ]
  },
  {
   "cell_type": "markdown",
   "metadata": {},
   "source": [
    "### Querying ESG Knowledge Graph for GHG Emissions Metrics\n",
    "\n",
    "This code connects to the GraphDB repository and executes a SPARQL query to retrieve ESG observations filtered based on metric, year and pillar for the respective industry."
   ]
  },
  {
   "cell_type": "code",
   "execution_count": 11,
   "metadata": {},
   "outputs": [
    {
     "data": {
      "text/plain": [
       "'\\nParameters:\\nendpoint (str): Base URL of the GraphDB server (e.g., \"http://localhost:7200\").\\nrepository (str): GraphDB repository name (e.g., \"PCA_Ontology\").\\nindustry (str, optional): ESG industry filter (e.g., \"semiconductors\").\\nmetric_filter (str, optional): Substring to match in metric name.\\npillar_filter (str, optional): Pillar value to filter on.\\nyear (str, optional): Year to filter.\\n\\nReturns:\\ndict: SPARQL query results in JSON format.\\n'"
      ]
     },
     "execution_count": 11,
     "metadata": {},
     "output_type": "execute_result"
    }
   ],
   "source": [
    "\"\"\"\n",
    "Parameters:\n",
    "endpoint (str): Base URL of the GraphDB server (e.g., \"http://localhost:7200\").\n",
    "repository (str): GraphDB repository name (e.g., \"PCA_Ontology\").\n",
    "industry (str, optional): ESG industry filter (e.g., \"semiconductors\").\n",
    "metric_filter (str, optional): Substring to match in metric name.\n",
    "pillar_filter (str, optional): Pillar value to filter on.\n",
    "year (str, optional): Year to filter.\n",
    "\n",
    "Returns:\n",
    "dict: SPARQL query results in JSON format.\n",
    "\"\"\"\n",
    "\n",
    "def query_esg_observations( endpoint, repository, industry, metric_filter, pillar_filter, year):\n",
    "\n",
    "    sparql = SPARQLWrapper(f\"{endpoint}/repositories/{repository}\")\n",
    "\n",
    "    query = \"\"\"\n",
    "    PREFIX ex: <http://example.org/esg#>\n",
    "    PREFIX xsd: <http://www.w3.org/2001/XMLSchema#>\n",
    "\n",
    "    SELECT DISTINCT ?company ?year ?metric ?category ?value ?pillar ?unit ?model \n",
    "    WHERE {\n",
    "      ?obs a ex:ESGObservation ;\n",
    "           ex:hasCompany ?company ;\n",
    "           ex:hasYear ?year ;\n",
    "           ex:hasMetric ?metric ;\n",
    "           ex:hasCategory ?category ;\n",
    "           ex:hasValue ?value ;\n",
    "           ex:hasPillar ?pillar ;\n",
    "           ex:hasUnit ?unit .\n",
    "    \"\"\"\n",
    "\n",
    "    if industry:\n",
    "        query += f\"      ?obs ex:belongsToIndustry ex:{industry} .\\n\" \n",
    "    \n",
    "    query += \"      ?model ex:relatedToMetric ?metric .\\n\"\n",
    "    \n",
    "    if metric_filter:\n",
    "        query += f'      FILTER(CONTAINS(STR(?metric), \"{metric_filter}\"))\\n'\n",
    "    if pillar_filter:\n",
    "        query += f'      FILTER(STRAFTER(STR(?pillar), \"#\") = \"{pillar_filter}\")\\n'\n",
    "    if year:\n",
    "        query += f'      FILTER(?year = \"{year}\"^^xsd:gYear)\\n'\n",
    "\n",
    "    query += \"    } ORDER BY ?company ?year ?metric\"\n",
    "\n",
    "    sparql.setQuery(query)\n",
    "    sparql.setReturnFormat(JSON)\n",
    "    return sparql.query().convert()"
   ]
  },
  {
   "cell_type": "markdown",
   "metadata": {},
   "source": [
    "### Converting SPARQL Results to Structured Records\n",
    "\n",
    "This block processes SPARQL query results into a list of structured records by extracting and cleaning fields like metric name, industry, category, and values for further analysis.\n"
   ]
  },
  {
   "cell_type": "code",
   "execution_count": 12,
   "metadata": {},
   "outputs": [
    {
     "data": {
      "text/plain": [
       "'\\nParameters:\\nresults (dict): SPARQL query result in JSON format.\\nReturns:\\nList[Dict]: List of records with keys like company, year, metric, industry, etc.\\n'"
      ]
     },
     "execution_count": 12,
     "metadata": {},
     "output_type": "execute_result"
    }
   ],
   "source": [
    "\"\"\"\n",
    "Parameters:\n",
    "results (dict): SPARQL query result in JSON format.\n",
    "Returns:\n",
    "List[Dict]: List of records with keys like company, year, metric, industry, etc.\n",
    "\"\"\"\n",
    "\n",
    "def parse_esg_results(results):\n",
    "    records = []\n",
    "\n",
    "    for result in results[\"results\"][\"bindings\"]:\n",
    "        # Extract full metric name\n",
    "        metric_full = result[\"metric\"][\"value\"].split(\"#\")[-1]\n",
    "\n",
    "        # split metric into metric_name and industry\n",
    "        if \"_\" in metric_full:\n",
    "            metric_parts = metric_full.rsplit(\"_\", 1)\n",
    "            metric_name = metric_parts[0]\n",
    "            industry = metric_parts[1]\n",
    "        else:\n",
    "            metric_name = metric_full\n",
    "            industry = \"Unknown\"\n",
    "\n",
    "        record = {\n",
    "            \"company\": result[\"company\"][\"value\"].split(\"#\")[-1],\n",
    "            \"year\": result[\"year\"][\"value\"],\n",
    "            \"metric\": metric_name,\n",
    "            \"industry\": industry,\n",
    "            \"category\": result[\"category\"][\"value\"].split(\"#\")[-1],\n",
    "            \"value\": float(result[\"value\"][\"value\"]),\n",
    "            \"pillar\": result[\"pillar\"][\"value\"].split(\"#\")[-1],\n",
    "            \"unit\": result[\"unit\"][\"value\"],\n",
    "            \"model\": result[\"model\"][\"value\"].split(\"#\")[-1]\n",
    "        }\n",
    "        records.append(record)\n",
    "\n",
    "    return records\n"
   ]
  },
  {
   "cell_type": "markdown",
   "metadata": {},
   "source": [
    "### Preparing Pivot Table for PCA Input\n",
    "\n",
    "Defines a function to filter ESG records by model name and transform them into a pivot table format with companies as rows and ESG categories as columns, removing columns with excessive missing data.\n"
   ]
  },
  {
   "cell_type": "code",
   "execution_count": 13,
   "metadata": {},
   "outputs": [
    {
     "data": {
      "text/plain": [
       "\"\\nParameters:\\nrecords (list): List of ESG records (dicts).\\nmodel_name (str): The model name to filter on (e.g., 'ghg_emissions_model').\\nmissing_threshold (float): Maximum allowed missing value ratio per column (0.9 = 90%).\\n\\nReturns:\\npd.DataFrame: Filtered pivot table with categories as columns and companies as rows.\\n\""
      ]
     },
     "execution_count": 13,
     "metadata": {},
     "output_type": "execute_result"
    }
   ],
   "source": [
    "\"\"\"\n",
    "Parameters:\n",
    "records (list): List of ESG records (dicts).\n",
    "model_name (str): The model name to filter on (e.g., 'ghg_emissions_model').\n",
    "missing_threshold (float): Maximum allowed missing value ratio per column (0.9 = 90%).\n",
    "\n",
    "Returns:\n",
    "pd.DataFrame: Filtered pivot table with categories as columns and companies as rows.\n",
    "\"\"\"\n",
    "\n",
    "def prepare_pivot_table(records, model_name, missing_threshold):\n",
    "\n",
    "    # Convert to DataFrame\n",
    "    df = pd.DataFrame(records)\n",
    "    # Filter for the given model\n",
    "    filtered_df = df[df['model'] == model_name]\n",
    "    # Pivot: companies as rows, categories as columns\n",
    "    pivot_df = filtered_df.pivot_table(\n",
    "        index='company',\n",
    "        columns='category',\n",
    "        values='value',\n",
    "        aggfunc='sum'\n",
    "    )\n",
    "    # Drop columns with >threshold missing\n",
    "    missing_ratio = pivot_df.isna().mean()\n",
    "    pivot_df_filtered = pivot_df.loc[:, missing_ratio < missing_threshold]\n",
    "\n",
    "    return pivot_df_filtered"
   ]
  },
  {
   "cell_type": "markdown",
   "metadata": {},
   "source": [
    "### Imputing Missing Values Based on Data Characteristics\n",
    "\n",
    "Defines a function to automatically select and apply the best imputation method (mean, median, or KNN) based on the overall skewness and missingness in the DataFrame.\n"
   ]
  },
  {
   "cell_type": "code",
   "execution_count": 14,
   "metadata": {},
   "outputs": [
    {
     "data": {
      "text/plain": [
       "'\\nParameters:\\ndf (pd.DataFrame): The input DataFrame with missing values to impute.\\nn_neighbors (int): Number of neighbors for KNN imputation (default: 5).\\n\\nReturns:\\npd.DataFrame: Imputed DataFrame with missing values filled using the selected method.\\n\\nMethod Selection Logic:\\n- Mean imputation: if missing < 10% and skewness < 1\\n- Median imputation: if missing < 30%\\n- KNN imputation: otherwise (e.g., high missingness or skew)\\n'"
      ]
     },
     "execution_count": 14,
     "metadata": {},
     "output_type": "execute_result"
    }
   ],
   "source": [
    "\"\"\"\n",
    "Parameters:\n",
    "df (pd.DataFrame): The input DataFrame with missing values to impute.\n",
    "n_neighbors (int): Number of neighbors for KNN imputation (default: 5).\n",
    "\n",
    "Returns:\n",
    "pd.DataFrame: Imputed DataFrame with missing values filled using the selected method.\n",
    "\n",
    "Method Selection Logic:\n",
    "- Mean imputation: if missing < 10% and skewness < 1\n",
    "- Median imputation: if missing < 30%\n",
    "- KNN imputation: otherwise (e.g., high missingness or skew)\n",
    "\"\"\"\n",
    "\n",
    "def select_best_imputation(df, n_neighbors):\n",
    "    skew = df.skew().abs().mean()\n",
    "    missing_value = df.isna().mean().mean()\n",
    "\n",
    "    if missing_value < 0.1 and skew < 1:\n",
    "        print(\"→ Using mean imputation (low skew & low missing values)\")\n",
    "        return df.fillna(df.mean())\n",
    "    elif missing_value < 0.3:\n",
    "        print(\"→ Using median imputation (moderate missing values or skew)\")\n",
    "        return df.fillna(df.median())\n",
    "    else:\n",
    "        print(\"→ Using KNN imputation (high missing values)\")\n",
    "        knn_imputer = KNNImputer(n_neighbors=n_neighbors)\n",
    "        knn_imputed = knn_imputer.fit_transform(df)\n",
    "        return pd.DataFrame(knn_imputed, index=df.index, columns=df.columns)"
   ]
  },
  {
   "cell_type": "markdown",
   "metadata": {},
   "source": [
    "### Running PCA on Scaled ESG Data\n",
    "\n",
    "This function standardizes the input data and applies PCA to extract the top 4 principal components, returning both the PCA object and the transformed scores.\n"
   ]
  },
  {
   "cell_type": "code",
   "execution_count": 15,
   "metadata": {},
   "outputs": [
    {
     "data": {
      "text/plain": [
       "'\\nParameters:\\ndf (pd.DataFrame): Input data with numerical features.\\nReturns:\\ntuple: (PCA object, PCA scores as ndarray)\\n'"
      ]
     },
     "execution_count": 15,
     "metadata": {},
     "output_type": "execute_result"
    }
   ],
   "source": [
    "\"\"\"\n",
    "Parameters:\n",
    "df (pd.DataFrame): Input data with numerical features.\n",
    "Returns:\n",
    "tuple: (PCA object, PCA scores as ndarray)\n",
    "\"\"\"\n",
    "def run_pca(df):\n",
    "    scaled = StandardScaler().fit_transform(df)\n",
    "    pca = PCA(n_components=2)\n",
    "    scores = pca.fit_transform(scaled)\n",
    "    return pca, scores"
   ]
  },
  {
   "cell_type": "markdown",
   "metadata": {},
   "source": [
    "### Complete PCA Workflow with Imputation\n",
    "\n",
    "This function performs missing value imputation followed by PCA, returning the PCA model, scores, and the imputed dataset for downstream analysis.\n"
   ]
  },
  {
   "cell_type": "code",
   "execution_count": 16,
   "metadata": {},
   "outputs": [
    {
     "data": {
      "text/plain": [
       "' \\nParameters:\\npivot table (pd.DataFrame): Filtered pivot table with categories as columns and companies as rows\\nReturns:\\nTuple[PCA, np.ndarray, pd.DataFrame]: Fitted PCA object, PCA scores, and final imputed data.\\n'"
      ]
     },
     "execution_count": 16,
     "metadata": {},
     "output_type": "execute_result"
    }
   ],
   "source": [
    "\"\"\" \n",
    "Parameters:\n",
    "pivot table (pd.DataFrame): Filtered pivot table with categories as columns and companies as rows\n",
    "Returns:\n",
    "Tuple[PCA, np.ndarray, pd.DataFrame]: Fitted PCA object, PCA scores, and final imputed data.\n",
    "\"\"\"\n",
    "def pca_workflow(pivot_df_table):\n",
    "    imputed_df = select_best_imputation(pivot_df_table, 5)\n",
    "    pca, scores = run_pca(imputed_df)\n",
    "    return pca, scores, imputed_df"
   ]
  },
  {
   "cell_type": "markdown",
   "metadata": {},
   "source": [
    "### Plotting Scree Plot with Variance Threshold\n",
    "\n",
    "This function visualizes the explained and cumulative variance of PCA components, highlighting the number of components needed to reach a specified variance threshold.\n"
   ]
  },
  {
   "cell_type": "code",
   "execution_count": 17,
   "metadata": {},
   "outputs": [
    {
     "data": {
      "text/plain": [
       "'\\nParameters:\\npca (PCA): Fitted PCA object.\\nthreshold (float): Variance threshold line to plot (default: 0.90 for 90%).\\n'"
      ]
     },
     "execution_count": 17,
     "metadata": {},
     "output_type": "execute_result"
    }
   ],
   "source": [
    "\"\"\"\n",
    "Parameters:\n",
    "pca (PCA): Fitted PCA object.\n",
    "threshold (float): Variance threshold line to plot (default: 0.90 for 90%).\n",
    "\"\"\"\n",
    "\n",
    "def plot_scree(pca, threshold):\n",
    "\n",
    "    explained = pca.explained_variance_ratio_\n",
    "    cum_explained = explained.cumsum()\n",
    "    num_components = (cum_explained >= threshold).argmax() + 1\n",
    "\n",
    "    plt.figure(figsize=(10, 6))\n",
    "    plt.plot(range(1, len(explained)+1), explained, marker='o', label='Explained Variance')\n",
    "    plt.plot(range(1, len(cum_explained)+1), cum_explained, marker='s', label='Cumulative Variance')\n",
    "    plt.axhline(y=threshold, color='red', linestyle='--', label=f'{int(threshold*100)}% Threshold (PC{num_components})')\n",
    "\n",
    "    plt.title(\"Scree Plot - PCA Explained Variance\")\n",
    "    plt.xlabel(\"Principal Component\")\n",
    "    plt.ylabel(\"Variance Ratio\")\n",
    "    plt.legend()\n",
    "    plt.grid(True)\n",
    "    plt.tight_layout()\n",
    "    plt.show()"
   ]
  },
  {
   "cell_type": "markdown",
   "metadata": {},
   "source": [
    "### Extracting Top Contributing Features to PCA\n",
    "\n",
    "This function calculates and returns the top N features with the highest loading magnitudes across principal components, indicating their influence on the PCA directions.\n"
   ]
  },
  {
   "cell_type": "code",
   "execution_count": 18,
   "metadata": {},
   "outputs": [
    {
     "data": {
      "text/plain": [
       "'\\nParameters:\\npca (PCA): Fitted PCA object.\\ndf (pd.DataFrame): Input data used for PCA.\\ntop_n (int): Number of top features to return.\\nascending (bool): Sort order by loading magnitude (default is descending).\\n\\nReturns:\\npd.DataFrame: Sorted DataFrame of top loadings by magnitude.\\n'"
      ]
     },
     "execution_count": 18,
     "metadata": {},
     "output_type": "execute_result"
    }
   ],
   "source": [
    "\"\"\"\n",
    "Parameters:\n",
    "pca (PCA): Fitted PCA object.\n",
    "df (pd.DataFrame): Input data used for PCA.\n",
    "top_n (int): Number of top features to return.\n",
    "ascending (bool): Sort order by loading magnitude (default is descending).\n",
    "\n",
    "Returns:\n",
    "pd.DataFrame: Sorted DataFrame of top loadings by magnitude.\n",
    "\"\"\"\n",
    "\n",
    "def get_top_pca_loadings(pca, df, top_n=10, ascending=False):\n",
    "    loadings = pd.DataFrame(\n",
    "        pca.components_.T,\n",
    "        index=df.columns,\n",
    "        columns=[f\"PC{i+1}\" for i in range(pca.n_components_)]\n",
    "    )\n",
    "\n",
    "    # Compute vector magnitude and sort\n",
    "    loadings['magnitude'] = np.sqrt((loadings**2).sum(axis=1))\n",
    "    sorted_top = loadings.sort_values(by='magnitude', ascending=ascending).head(top_n)\n",
    "\n",
    "    return sorted_top.drop(columns='magnitude')\n"
   ]
  },
  {
   "cell_type": "markdown",
   "metadata": {},
   "source": [
    "### Visualizing Top PCA Loadings as Heatmap\n",
    "\n",
    "This function plots a heatmap of the top feature loadings across principal components to highlight which features most influence each PC direction.\n"
   ]
  },
  {
   "cell_type": "code",
   "execution_count": 19,
   "metadata": {},
   "outputs": [
    {
     "data": {
      "text/plain": [
       "'\\nParameters:\\ntop_loadings (pd.DataFrame): Loadings DataFrame (features x PCs).\\n'"
      ]
     },
     "execution_count": 19,
     "metadata": {},
     "output_type": "execute_result"
    }
   ],
   "source": [
    "\"\"\"\n",
    "Parameters:\n",
    "top_loadings (pd.DataFrame): Loadings DataFrame (features x PCs).\n",
    "\"\"\"\n",
    "def plot_pca_loadings_heatmap(top_loadings):\n",
    "    plt.figure(figsize=(10, len(top_loadings) * 0.5))\n",
    "    sns.heatmap(top_loadings, annot=True, cmap='coolwarm', center=0)\n",
    "    plt.title(\"Top Feature Contributions to Principal Components\")\n",
    "    plt.tight_layout()\n",
    "    plt.show()\n"
   ]
  },
  {
   "cell_type": "markdown",
   "metadata": {},
   "source": [
    "### PCA Biplot Visualization with Feature Arrows\n",
    "\n",
    "This function generates a PCA biplot showing company scores and feature contributions as arrows between two selected principal components, with labels and a summary legend.\n"
   ]
  },
  {
   "cell_type": "code",
   "execution_count": 20,
   "metadata": {},
   "outputs": [
    {
     "data": {
      "text/plain": [
       "'\\nParameters:\\npca (PCA): Fitted PCA object.\\nscores (ndarray): PCA-transformed company scores.\\ndf (pd.DataFrame): Input DataFrame (for feature names).\\npc_x (int): Principal Component for x-axis (1-based).\\npc_y (int): Principal Component for y-axis (1-based).\\narrow_scale (float): Scale multiplier for loading vectors.\\nlabel_offset (float): Offset multiplier for text from arrow tips.\\n'"
      ]
     },
     "execution_count": 20,
     "metadata": {},
     "output_type": "execute_result"
    }
   ],
   "source": [
    "\"\"\"\n",
    "Parameters:\n",
    "pca (PCA): Fitted PCA object.\n",
    "scores (ndarray): PCA-transformed company scores.\n",
    "df (pd.DataFrame): Input DataFrame (for feature names).\n",
    "pc_x (int): Principal Component for x-axis (1-based).\n",
    "pc_y (int): Principal Component for y-axis (1-based).\n",
    "arrow_scale (float): Scale multiplier for loading vectors.\n",
    "label_offset (float): Offset multiplier for text from arrow tips.\n",
    "\"\"\"\n",
    "\n",
    "def plot_biplot(pca, scores, df, pc_x=1, pc_y=2, arrow_scale=3.0, label_offset=1.2):\n",
    "\n",
    "    pcx, pcy = pc_x - 1, pc_y - 1\n",
    "    features = df.columns\n",
    "\n",
    "    plt.figure(figsize=(10, 6))\n",
    "    plt.scatter(scores[:, pcx], scores[:, pcy], alpha=0.6, label='Companies')\n",
    "\n",
    "    # Arrow + inline label\n",
    "    for i, feature in enumerate(features):\n",
    "        x_loading = pca.components_[pcx, i] * arrow_scale\n",
    "        y_loading = pca.components_[pcy, i] * arrow_scale\n",
    "        plt.arrow(0, 0, x_loading, y_loading, color='red', alpha=0.6,\n",
    "                  head_width=0.15, head_length=0.2)\n",
    "        plt.text(x_loading * label_offset, y_loading * label_offset,\n",
    "                 feature, fontsize=10, ha='center', va='center', color='black')\n",
    "\n",
    "    # Label box in corner\n",
    "    label_text = \"\\n\".join([f\"• {feat}\" for feat in features])\n",
    "    props = dict(boxstyle='round', facecolor='white', edgecolor='gray', alpha=0.95)\n",
    "    plt.text(1.05, 0.95, label_text, transform=plt.gca().transAxes,\n",
    "             fontsize=10, va='top', bbox=props)\n",
    "\n",
    "    plt.axhline(0, color='gray', lw=1, linestyle='--')\n",
    "    plt.axvline(0, color='gray', lw=1, linestyle='--')\n",
    "    plt.xlabel(f'PC{pc_x}')\n",
    "    plt.ylabel(f'PC{pc_y}')\n",
    "    plt.title(f'PCA Biplot: PC{pc_x} vs PC{pc_y} with All Feature Labels')\n",
    "    plt.grid(True)\n",
    "    plt.tight_layout()\n",
    "    plt.show()\n"
   ]
  },
  {
   "cell_type": "markdown",
   "metadata": {},
   "source": [
    "### Identifying Top Metric Categories by PCA Importance\n",
    "\n",
    "This function calculates feature importance scores from PCA loadings and returns the top contributing ESG metrics, optionally displaying their percentage contributions.<br>\n",
    "For each metric (feature), we compute the Euclidean norm (vector magnitude) of its loading values across all principal components:\n",
    "\n",
    "$$\n",
    "\\text{Importance}_{\\text{metric}} = \\sqrt{(\\text{PC}_1)^2 + (\\text{PC}_2)^2 + \\cdots + (\\text{PC}_n)^2}\n",
    "$$\n",
    " \n",
    "\n",
    "This gives us a single importance score for each metric, representing its overall influence across the PCA projection space."
   ]
  },
  {
   "cell_type": "code",
   "execution_count": 21,
   "metadata": {},
   "outputs": [
    {
     "data": {
      "text/plain": [
       "'\\nParameters:\\ntop_loadings (pd.DataFrame): PCA loading matrix (features x PCs).\\ntop_n (int): Number of top metrics to return.\\nas_percent (bool): Whether to include relative magnitude in % format.\\n\\nReturns:\\npd.DataFrame: Top N metrics sorted by total influence magnitude.\\n'"
      ]
     },
     "execution_count": 21,
     "metadata": {},
     "output_type": "execute_result"
    }
   ],
   "source": [
    "\"\"\"\n",
    "Parameters:\n",
    "top_loadings (pd.DataFrame): PCA loading matrix (features x PCs).\n",
    "top_n (int): Number of top metrics to return.\n",
    "as_percent (bool): Whether to include relative magnitude in % format.\n",
    "\n",
    "Returns:\n",
    "pd.DataFrame: Top N metrics sorted by total influence magnitude.\n",
    "\"\"\"\n",
    "\n",
    "def get_top_metric_categories(top_loadings, top_n=7, as_percent=False):\n",
    "\n",
    "    # Step 1: Compute magnitude across PCs\n",
    "    magnitudes = np.sqrt((top_loadings**2).sum(axis=1))\n",
    "    total = magnitudes.sum()\n",
    "\n",
    "    # Step 2: Create DataFrame\n",
    "    result = pd.DataFrame({\n",
    "        'metric': magnitudes.index,\n",
    "        'importance_score': magnitudes.values\n",
    "    })\n",
    "\n",
    "    # Step 3: Add % contribution if needed\n",
    "    if as_percent:\n",
    "        result['importance_percent'] = (result['importance_score'] / total * 100).round(2).astype(str) + '%'\n",
    "\n",
    "    # Step 4: Return top N\n",
    "    return result.sort_values(by='importance_score', ascending=False).head(top_n).reset_index(drop=True)\n",
    "\n"
   ]
  },
  {
   "cell_type": "markdown",
   "metadata": {},
   "source": [
    "# Code"
   ]
  },
  {
   "cell_type": "code",
   "execution_count": null,
   "metadata": {},
   "outputs": [],
   "source": []
  },
  {
   "cell_type": "code",
   "execution_count": null,
   "metadata": {},
   "outputs": [],
   "source": []
  },
  {
   "cell_type": "code",
   "execution_count": 22,
   "metadata": {},
   "outputs": [],
   "source": [
    "results = query_esg_observations(\n",
    "    endpoint=\"http://localhost:7200/\",\n",
    "    repository=\"esg_repo\",\n",
    "    industry=\"biotechnology_pharmaceuticals\",\n",
    "    metric_filter=\"supply_chain_management\",\n",
    "    pillar_filter=\"g_opportunity\",\n",
    "    year=\"2020\"\n",
    ")\n"
   ]
  },
  {
   "cell_type": "code",
   "execution_count": 23,
   "metadata": {},
   "outputs": [],
   "source": [
    "records = parse_esg_results(results)"
   ]
  },
  {
   "cell_type": "code",
   "execution_count": 24,
   "metadata": {},
   "outputs": [],
   "source": [
    "pivot_df = prepare_pivot_table(records, model_name='supply_chain_management_model', missing_threshold=0.9)"
   ]
  },
  {
   "cell_type": "code",
   "execution_count": 25,
   "metadata": {},
   "outputs": [
    {
     "name": "stdout",
     "output_type": "stream",
     "text": [
      "→ Using KNN imputation (high missing values)\n"
     ]
    }
   ],
   "source": [
    "pca, scores, imputed_df = pca_workflow(pivot_df)"
   ]
  },
  {
   "cell_type": "code",
   "execution_count": 26,
   "metadata": {},
   "outputs": [
    {
     "data": {
      "image/png": "[encoded data removed]",
      "text/plain": [
       "<Figure size 1000x600 with 1 Axes>"
      ]
     },
     "metadata": {},
     "output_type": "display_data"
    }
   ],
   "source": [
    "# Scree plot of PCA\n",
    "plot_scree(pca, threshold=0.7)"
   ]
  },
  {
   "cell_type": "code",
   "execution_count": 27,
   "metadata": {},
   "outputs": [],
   "source": [
    "top_loadings = get_top_pca_loadings(pca, imputed_df, top_n=10)"
   ]
  },
  {
   "cell_type": "code",
   "execution_count": 28,
   "metadata": {},
   "outputs": [
    {
     "data": {
      "image/png": "[encoded data removed]",
      "text/plain": [
       "<Figure size 1000x100 with 2 Axes>"
      ]
     },
     "metadata": {},
     "output_type": "display_data"
    }
   ],
   "source": [
    "plot_pca_loadings_heatmap(top_loadings)       # Heatmap for multiple PCs"
   ]
  },
  {
   "cell_type": "code",
   "execution_count": 29,
   "metadata": {},
   "outputs": [
    {
     "data": {
      "image/png": "[encoded data removed]",
      "text/plain": [
       "<Figure size 1000x600 with 1 Axes>"
      ]
     },
     "metadata": {},
     "output_type": "display_data"
    }
   ],
   "source": [
    "plot_biplot(pca, scores, imputed_df, arrow_scale=4, label_offset=1.3)"
   ]
  },
  {
   "cell_type": "markdown",
   "metadata": {},
   "source": []
  },
  {
   "cell_type": "code",
   "execution_count": 30,
   "metadata": {},
   "outputs": [
    {
     "name": "stdout",
     "output_type": "stream",
     "text": [
      "Top ESG categories for user selection:\n",
      "                          metric  importance_score importance_percent\n",
      "0  analytic_audit_comm_expertise               1.0              50.0%\n",
      "1           analyticauditcommind               1.0              50.0%\n"
     ]
    }
   ],
   "source": [
    "top_metrics = get_top_metric_categories(top_loadings, top_n=5, as_percent=True)\n",
    "\n",
    "print(\"Top ESG categories for user selection:\")\n",
    "print(top_metrics)\n"
   ]
  },
  {
   "cell_type": "code",
   "execution_count": 31,
   "metadata": {},
   "outputs": [],
   "source": [
    "from nbconvert import PythonExporter\n",
    "import nbformat\n",
    "\n",
    "def convert_notebook_to_py(notebook_path, script_path):\n",
    "    nb = nbformat.read(open(notebook_path), as_version=4)\n",
    "    exporter = PythonExporter()\n",
    "    source, _ = exporter.from_notebook_node(nb)\n",
    "\n",
    "    with open(script_path, 'w', encoding='utf-8') as f:\n",
    "        f.write(source)\n",
    "\n",
    "# Example usage\n",
    "convert_notebook_to_py(\"Ontology_PCA_SC_v3.ipynb\", \"ontology_vinanti.py\")"
   ]
  }
 ],
 "metadata": {
  "kernelspec": {
   "display_name": "venv",
   "language": "python",
   "name": "python3"
  },
  "language_info": {
   "codemirror_mode": {
    "name": "ipython",
    "version": 3
   },
   "file_extension": ".py",
   "mimetype": "text/x-python",
   "name": "python",
   "nbconvert_exporter": "python",
   "pygments_lexer": "ipython3",
   "version": "3.13.0"
  }
 },
 "nbformat": 4,
 "nbformat_minor": 2
}
