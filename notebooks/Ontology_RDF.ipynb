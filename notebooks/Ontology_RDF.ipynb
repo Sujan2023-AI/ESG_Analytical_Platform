{
 "cells": [
  {
   "cell_type": "code",
   "execution_count": 1,
   "metadata": {},
   "outputs": [],
   "source": [
    "import pandas as pd\n",
    "from rdflib import Graph, Namespace, Literal, RDF, URIRef\n",
    "from rdflib.namespace import XSD\n",
    "import os"
   ]
  },
  {
   "cell_type": "code",
   "execution_count": 2,
   "metadata": {},
   "outputs": [],
   "source": [
    "# Define RDF Namespace\n",
    "EX = Namespace(\"http://example.org/esg/\")\n",
    "g = Graph()\n",
    "g.bind(\"ex\", EX)\n",
    "\n",
    "# Folder path to your normalized ESG CSVs\n",
    "base_path = \"/Users/vinantipathare/Desktop/Docs/CS Project/Ontology_PCA_Project/Normalized_Data\"\n",
    "\n",
    "# File mapping based on screenshot\n",
    "file_mapping = {\n",
    "    \"E_opportunity\": \"esg_environmental_opportunity_cleaned_industry_normalized_updated_pillar.csv\",\n",
    "    \"E_risk\": \"esg_environmental_risk_cleaned_industry_normalized_updated_pillar.csv\",\n",
    "    \"G_opportunity\": \"esg_governance_opportunity_cleaned_industry_normalized_updated_pillar.csv\",\n",
    "    \"G_risk\": \"esg_governance_risk_cleaned_industry_normalized_updated_pillar.csv\",\n",
    "    \"S_opportunity\": \"esg_social_opportunity_cleaned_industry_normalized_updated_pillar.csv\",\n",
    "    \"S_risk\": \"esg_social_risk_cleaned_industry_normalized_updated_pillar.csv\"\n",
    "}\n"
   ]
  },
  {
   "cell_type": "code",
   "execution_count": 3,
   "metadata": {},
   "outputs": [],
   "source": [
    "# Load ESG mapping\n",
    "mapping_df = pd.read_csv(os.path.join(base_path, \"esg_master_mapping_pillar_updated1.csv\"))\n",
    "\n",
    "# Helper function\n",
    "def safe_uri(s):\n",
    "    return URIRef(EX + str(s).strip().replace(\" \", \"_\").replace(\"/\", \"_\"))"
   ]
  },
  {
   "cell_type": "code",
   "execution_count": 4,
   "metadata": {},
   "outputs": [],
   "source": [
    "# Process all six files\n",
    "for pillar, file_name in file_mapping.items():\n",
    "    df = pd.read_csv(os.path.join(base_path, file_name),delimiter='|', encoding='utf-8')\n",
    "\n",
    "    for _, row in df.iterrows():\n",
    "        metric = row['metric_name']\n",
    "        industry = row['Industry']\n",
    "        pillar = row['pillar']\n",
    "        company = row['company_name']\n",
    "        year = row['year']\n",
    "        value = row['metric_value']\n",
    "\n",
    "        # Match with mapping file\n",
    "        match = mapping_df[\n",
    "            (mapping_df['Metric'] == metric) &\n",
    "            (mapping_df['Pillar'] == pillar) &\n",
    "            (mapping_df['Industry'] == industry)\n",
    "        ]\n",
    "\n",
    "        if match.empty:\n",
    "            continue\n",
    "\n",
    "        topic = match['Topic'].values[0]\n",
    "        sasb = match['SASB_Code'].values[0]\n",
    "\n",
    "        subj = safe_uri(f\"{company}_{industry}_{year}_{pillar}_{metric}\")\n",
    "\n",
    "        g.add((subj, RDF.type, EX.ESGObservation))\n",
    "        g.add((subj, EX.company, Literal(company)))\n",
    "        g.add((subj, EX.industry, Literal(industry)))\n",
    "        g.add((subj, EX.year, Literal(int(year), datatype=XSD.gYear)))\n",
    "        g.add((subj, EX.pillar, Literal(pillar)))\n",
    "        g.add((subj, EX.metric, Literal(metric)))\n",
    "        g.add((subj, EX.value, Literal(float(value), datatype=XSD.float)))\n",
    "        g.add((subj, EX.topic, Literal(topic)))\n",
    "        g.add((subj, EX.sasbCode, Literal(sasb)))\n",
    "\n",
    "\n"
   ]
  },
  {
   "cell_type": "code",
   "execution_count": 5,
   "metadata": {},
   "outputs": [
    {
     "name": "stdout",
     "output_type": "stream",
     "text": [
      "RDF file saved to: esg_combined1.ttl\n"
     ]
    }
   ],
   "source": [
    "# Output RDF\n",
    "output_file = \"esg_combined1.ttl\"\n",
    "g.serialize(destination=output_file, format='turtle')\n",
    "print(f\"RDF file saved to: {output_file}\")"
   ]
  },
  {
   "cell_type": "code",
   "execution_count": null,
   "metadata": {},
   "outputs": [],
   "source": []
  },
  {
   "cell_type": "code",
   "execution_count": null,
   "metadata": {},
   "outputs": [],
   "source": []
  }
 ],
 "metadata": {
  "kernelspec": {
   "display_name": "Python (base)",
   "language": "python",
   "name": "base"
  },
  "language_info": {
   "codemirror_mode": {
    "name": "ipython",
    "version": 3
   },
   "file_extension": ".py",
   "mimetype": "text/x-python",
   "name": "python",
   "nbconvert_exporter": "python",
   "pygments_lexer": "ipython3",
   "version": "3.11.5"
  }
 },
 "nbformat": 4,
 "nbformat_minor": 2
}
