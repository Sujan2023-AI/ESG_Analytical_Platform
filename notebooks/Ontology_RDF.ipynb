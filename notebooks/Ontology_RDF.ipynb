{
 "cells": [
  {
   "cell_type": "code",
   "execution_count": 1,
   "metadata": {},
   "outputs": [],
   "source": [
    "import pandas as pd\n",
    "from rdflib import Graph, Namespace, Literal, RDF, RDFS, OWL, XSD, URIRef\n",
    "import os\n",
    "import re\n"
   ]
  },
  {
   "cell_type": "code",
   "execution_count": 3,
   "metadata": {},
   "outputs": [],
   "source": [
    "# === RDF Setup ===\n",
    "EX = Namespace(\"http://example.org/esg/\")\n",
    "g = Graph()\n",
    "g.bind(\"ex\", EX)\n",
    "g.bind(\"xsd\", XSD)\n",
    "g.bind(\"rdfs\", RDFS)\n",
    "g.bind(\"owl\", OWL)\n",
    "\n",
    "# === URI Cleaner ===\n",
    "def safe_uri(text):\n",
    "    if pd.isnull(text): return URIRef(EX + \"Undefined\")\n",
    "    clean = str(text).strip()\n",
    "    clean = re.sub(r'[^\\w\\-]', '_', clean)\n",
    "    clean = re.sub(r'__+', '_', clean)\n",
    "    return URIRef(EX + clean.strip('_'))\n",
    "\n",
    "# === Paths ===\n",
    "base_path = \"/Users/sujanbharadwaj/Documents/Ontology_PCA_Project/Normalized_Data\"\n",
    "biotech_file = os.path.join(base_path, \"biopharma_sasb_filtered.csv\")\n",
    "semicon_file = os.path.join(base_path, \"semiconductors_sasb_filtered.csv\")\n",
    "mapping_file = os.path.join(base_path, \"esg_master_mapping_pillar_updated1.csv\")\n",
    "\n",
    "# === Load Data ===\n",
    "biotech_df = pd.read_csv(biotech_file)\n",
    "semicon_df = pd.read_csv(semicon_file)\n",
    "mapping_df = pd.read_csv(mapping_file)\n",
    "\n",
    "# === Merge Industry Files ===\n",
    "combined_df = pd.concat([biotech_df, semicon_df], ignore_index=True)\n",
    "\n",
    "# === Merge Mapping (left join)\n",
    "combined_df = combined_df.merge(mapping_df,\n",
    "                                 how=\"left\",\n",
    "                                 left_on=[\"metric_name\", \"Industry\"],\n",
    "                                 right_on=[\"Metric\", \"Industry\"])\n",
    "\n",
    "# === Ontology Schema Triples ===\n",
    "ontology_schema = [\n",
    "    (EX.ESGObservation, RDF.type, OWL.Class),\n",
    "    (EX.Company, RDF.type, OWL.Class),\n",
    "    (EX.Industry, RDF.type, OWL.Class),\n",
    "    (EX.Metric, RDF.type, OWL.Class),\n",
    "    (EX.Category, RDF.type, OWL.Class),\n",
    "    (EX.hasCompany, RDF.type, OWL.ObjectProperty),\n",
    "    (EX.hasIndustry, RDF.type, OWL.ObjectProperty),\n",
    "    (EX.hasMetric, RDF.type, OWL.ObjectProperty),\n",
    "    (EX.hasCategory, RDF.type, OWL.ObjectProperty),\n",
    "    (EX.hasValue, RDF.type, OWL.DatatypeProperty),\n",
    "    (EX.hasYear, RDF.type, OWL.DatatypeProperty),\n",
    "    (EX.hasMetricName, RDF.type, OWL.DatatypeProperty),\n",
    "    (EX.hasMetricDescription, RDF.type, OWL.DatatypeProperty),\n",
    "    (EX.hasDataType, RDF.type, OWL.DatatypeProperty),\n",
    "    (EX.hasSASBCode, RDF.type, OWL.DatatypeProperty)\n",
    "]\n",
    "for triple in ontology_schema:\n",
    "    g.add(triple)\n",
    "\n",
    "# === Generate Triples ===\n",
    "for _, row in combined_df.iterrows():\n",
    "    try:\n",
    "        company = row[\"company_name\"]\n",
    "        industry = row[\"Industry\"]\n",
    "        metric = row[\"standard_metric\"]\n",
    "        metric_label = row[\"metric_name\"]\n",
    "        year = int(row[\"year\"])\n",
    "        value = float(row[\"metric_value_scaled\"])\n",
    "        category = row[\"Topic\"] if pd.notnull(row[\"Topic\"]) else metric\n",
    "        sasb_code = row[\"SASB_Code\"] if \"SASB_Code\" in row else \"unknown\"\n",
    "        data_type = row[\"data_type\"] if \"data_type\" in row else \"unknown\"\n",
    "        desc = row[\"metric_description\"]\n",
    "\n",
    "        # URIs\n",
    "        obs_uri = safe_uri(f\"{company}_{industry}_{year}_{metric}\")\n",
    "        company_uri = safe_uri(f\"Company_{company}\")\n",
    "        industry_uri = safe_uri(f\"Industry_{industry}\")\n",
    "        metric_uri = safe_uri(metric)\n",
    "        category_uri = safe_uri(f\"Category_{category}\")\n",
    "\n",
    "        # Add triples\n",
    "        g.add((obs_uri, RDF.type, EX.ESGObservation))\n",
    "        g.add((obs_uri, EX.hasCompany, company_uri))\n",
    "        g.add((obs_uri, EX.hasIndustry, industry_uri))\n",
    "        g.add((obs_uri, EX.hasMetric, metric_uri))\n",
    "        g.add((obs_uri, EX.hasCategory, category_uri))\n",
    "        g.add((obs_uri, EX.hasValue, Literal(value, datatype=XSD.float)))\n",
    "        g.add((obs_uri, EX.hasYear, Literal(year, datatype=XSD.gYear)))\n",
    "        g.add((obs_uri, EX.hasDataType, Literal(data_type)))\n",
    "        g.add((obs_uri, EX.hasSASBCode, Literal(sasb_code)))\n",
    "\n",
    "        # Define classes\n",
    "        g.add((company_uri, RDF.type, EX.Company))\n",
    "        g.add((industry_uri, RDF.type, EX.Industry))\n",
    "        g.add((metric_uri, RDF.type, EX.Metric))\n",
    "        g.add((category_uri, RDF.type, EX.Category))\n",
    "        g.add((metric_uri, EX.hasMetricName, Literal(metric_label)))\n",
    "        g.add((metric_uri, EX.hasMetricDescription, Literal(desc)))\n",
    "    except Exception as e:\n",
    "        print(f\"❌ Error with row: {e}\")\n",
    "        continue"
   ]
  },
  {
   "cell_type": "code",
   "execution_count": 4,
   "metadata": {},
   "outputs": [
    {
     "name": "stdout",
     "output_type": "stream",
     "text": [
      "RDF exported to: /Users/sujanbharadwaj/Documents/Ontology_PCA_Project/Normalized_Data/sasb_industry_enhanced.ttl\n"
     ]
    }
   ],
   "source": [
    "# === Serialize RDF ===\n",
    "output_file = os.path.join(base_path, \"sasb_industry_enhanced.ttl\")\n",
    "g.serialize(destination=output_file, format=\"turtle\")\n",
    "print(f\"RDF exported to: {output_file}\")"
   ]
  },
  {
   "cell_type": "code",
   "execution_count": null,
   "metadata": {},
   "outputs": [],
   "source": []
  },
  {
   "cell_type": "code",
   "execution_count": null,
   "metadata": {},
   "outputs": [],
   "source": []
  }
 ],
 "metadata": {
  "kernelspec": {
   "display_name": "base",
   "language": "python",
   "name": "python3"
  },
  "language_info": {
   "codemirror_mode": {
    "name": "ipython",
    "version": 3
   },
   "file_extension": ".py",
   "mimetype": "text/x-python",
   "name": "python",
   "nbconvert_exporter": "python",
   "pygments_lexer": "ipython3",
   "version": "3.12.7"
  }
 },
 "nbformat": 4,
 "nbformat_minor": 2
}
